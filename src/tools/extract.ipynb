{
 "cells": [
  {
   "cell_type": "code",
   "execution_count": 4,
   "metadata": {},
   "outputs": [],
   "source": [
    "import plyvel\n",
    "from typing import List, Optional\n",
    "from pydantic import BaseModel\n",
    "import json\n",
    "from bs4 import BeautifulSoup\n",
    "from tqdm import tqdm\n",
    "\n",
    "\n",
    "class RelatedItem(BaseModel):\n",
    "    title: str\n",
    "    url: str\n",
    "    html_content: str\n",
    "\n",
    "class NewsItem(BaseModel):\n",
    "    title: str\n",
    "    url: str\n",
    "    full_page_content: str\n",
    "    comes_from: str\n",
    "    published_time: str\n",
    "    comment_count: int\n",
    "    tags: List[str]\n",
    "    related: List[RelatedItem]\n",
    "\n",
    "\n",
    "def html_to_paragraphs(html: str):\n",
    "    soup = BeautifulSoup(html, 'html.parser')\n",
    "    paragraphs = [p.get_text(strip=True) for p in soup.find_all('p') if p.get_text(strip=True)]\n",
    "    return paragraphs\n",
    "\n",
    "def save_paragraphs(paragraphs: list[str], count: int):\n",
    "    with open(f'../../extracted/{str(count).zfill(4)}.json', 'w+', encoding='utf-8') as f:\n",
    "        json.dump(paragraphs, f, ensure_ascii=False)\n"
   ]
  },
  {
   "cell_type": "markdown",
   "metadata": {},
   "source": [
    "## Read the database"
   ]
  },
  {
   "cell_type": "code",
   "execution_count": null,
   "metadata": {},
   "outputs": [
    {
     "name": "stderr",
     "output_type": "stream",
     "text": [
      "preparing...: 164703it [01:58, 1388.50it/s]\n"
     ]
    }
   ],
   "source": [
    "\n",
    "news: list[list[str]] = []\n",
    "news_objects: list[NewsItem] = []\n",
    "with plyvel.DB('../../data/news_content.lvdb') as db:\n",
    "    \n",
    "    for k, v in tqdm(db.iterator(), desc=\"preparing...\"):\n",
    "        news_item = NewsItem.model_validate_json(str(v, encoding='utf-8'))\n",
    "        news_objects.append(news_item)\n",
    "        html = news_item.full_page_content\n",
    "        paragraphs = html_to_paragraphs(html)\n",
    "        news.append(paragraphs)"
   ]
  },
  {
   "cell_type": "code",
   "execution_count": 3,
   "metadata": {},
   "outputs": [
    {
     "name": "stderr",
     "output_type": "stream",
     "text": [
      "cleaning links:   0%|          | 0/164703 [00:00<?, ?it/s]"
     ]
    },
    {
     "name": "stderr",
     "output_type": "stream",
     "text": [
      "cleaning links: 100%|██████████| 164703/164703 [01:41<00:00, 1627.19it/s]\n"
     ]
    }
   ],
   "source": [
    "\n",
    "import text_cleaner\n",
    "import re\n",
    "\n",
    "def clean_http_links(text: str) -> str:\n",
    "    return re.sub(r'https?://[^\\s]+', '', text)\n",
    "\n",
    "news = [[text_cleaner.clean_text(i) for i in n] for n in tqdm(news, desc=\"cleaning links\")]"
   ]
  },
  {
   "cell_type": "code",
   "execution_count": 6,
   "metadata": {},
   "outputs": [
    {
     "name": "stderr",
     "output_type": "stream",
     "text": [
      "100%|██████████| 164703/164703 [00:04<00:00, 34625.23it/s]\n"
     ]
    },
    {
     "name": "stdout",
     "output_type": "stream",
     "text": [
      "done.\n"
     ]
    }
   ],
   "source": [
    "count = 0\n",
    "all_paragraphs: list[str] = []\n",
    "for p in tqdm(news):\n",
    "    all_paragraphs.extend(p)\n",
    "    count += 1\n",
    "    if count % 1000 == 0:\n",
    "        save_paragraphs(all_paragraphs, count)\n",
    "        all_paragraphs = []\n",
    "#save the last part of the paragraphs to json file.\n",
    "save_paragraphs(all_paragraphs, count)\n",
    "\n",
    "print(\"done.\")"
   ]
  },
  {
   "cell_type": "markdown",
   "metadata": {},
   "source": [
    "# Clean the text"
   ]
  },
  {
   "cell_type": "code",
   "execution_count": 8,
   "metadata": {},
   "outputs": [
    {
     "name": "stderr",
     "output_type": "stream",
     "text": [
      "100%|██████████| 164703/164703 [00:09<00:00, 16671.72it/s]"
     ]
    },
    {
     "name": "stdout",
     "output_type": "stream",
     "text": [
      "{']', 'ژ', 'ى', 'd', 'ل', 'z', 'ۆ', 'g', 'پ', 'r', 'ي', '$', 'ق', 'k', '6', 'p', 'ش', '/', 'ز', '.', 'u', '\"', 'f', '(', '8', 'س', 'e', '؟', 'i', 't', 'l', 'م', '>', '9', '7', '«', ':', 'ئ', 'ۈ', '1', 'ۇ', \"'\", '5', '<', '[', 'ە', ' ', 'چ', '{', 'w', 'ۋ', '-', 'ب', 'ت', 'ې', '#', 'ن', '4', 'm', 'خ', 'گ', '^', 'ك', '|', 'c', 'غ', '0', '}', 's', '2', '›', '،', '€', 'ا', '+', 'ف', 'n', '؛', '*', 'ھ', '3', 'j', 'o', 'ڭ', 'a', '=', '!', 'h', 'y', 'x', 'و', 'ج', 'q', 'b', 'د', '%', '»', '‹', '¥', ')', '?', '@', 'v', '£', 'ر', '_'}\n"
     ]
    },
    {
     "name": "stderr",
     "output_type": "stream",
     "text": [
      "\n"
     ]
    },
    {
     "data": {
      "text/plain": [
       "106"
      ]
     },
     "execution_count": 8,
     "metadata": {},
     "output_type": "execute_result"
    }
   ],
   "source": [
    "extracted_symbols = set(\"\")\n",
    "for p in tqdm(news[:]):\n",
    "    for s in p:\n",
    "        extracted_symbols.update(s)\n",
    "\n",
    "print(extracted_symbols)\n",
    "len(extracted_symbols)"
   ]
  },
  {
   "cell_type": "markdown",
   "metadata": {},
   "source": [
    "# Save all symbols to json file as tokens."
   ]
  },
  {
   "cell_type": "code",
   "execution_count": null,
   "metadata": {},
   "outputs": [],
   "source": [
    "tokens = [s for s in [text_cleaner.symbols_list]]\n",
    "with open('tokens.json', 'w+', encoding='utf-8') as f:\n",
    "    json.dump(tokens, f, ensure_ascii=False)\n"
   ]
  },
  {
   "cell_type": "markdown",
   "metadata": {},
   "source": [
    "### Same all the news title into json file."
   ]
  },
  {
   "cell_type": "code",
   "execution_count": 10,
   "metadata": {},
   "outputs": [
    {
     "name": "stdout",
     "output_type": "stream",
     "text": [
      "[RelatedItem(title='يەر شارى بويىچە ھەر مىنۇتتا بىر ئادەم ئەيدىز كېسىلى بىلەن ئۆلىۋاتىدۇ', url='/news/2024/07/26828077.shtml', html_content='<a href=\"/news/2024/07/26828077.shtml\">\\n<img alt=\"يەر شارى بويىچە ھەر مىنۇتتا بىر ئادەم ئەيدىز كېسىلى بىلەن ئۆلىۋاتىدۇ\" src=\"https://cdnf.nur.cn/uploadfile/2024/0724/072413590533400000023179.jpg\"/>\\n<h4>يەر شارى بويىچە ھەر مىنۇتتا بىر ئادەم ئەيدىز كېسىلى بىلەن ئۆلىۋاتىدۇ</h4>\\n</a>'), RelatedItem(title='ئەيدىز كېسىلىنىڭ جىددىي خاراكتېرلىك مەزگىلىدە قانداق ئىپادىلەر كۆرۈلىدۇ؟', url='/news/2024/07/26791201.shtml', html_content='<a href=\"/news/2024/07/26791201.shtml\">\\n<img alt=\"ئەيدىز كېسىلىنىڭ جىددىي خاراكتېرلىك مەزگىلىدە قانداق ئىپادىلەر كۆرۈلىدۇ؟\" src=\"https://cdnf.nur.cn/uploadfile/2024/0715/2024071568b7a2b906d4930ec52d22806c95d9d100017234601.jpg\"/>\\n<h4>ئەيدىز كېسىلىنىڭ جىددىي خاراكتېرلىك مەزگىلىدە قانداق ئىپادىلەر كۆرۈلىدۇ؟</h4>\\n</a>'), RelatedItem(title='\\u200bئەيدىز ۋىرۇسى بىلەن يېڭى يۇقۇملانغاندا قانداق ئالامەتلەر بولىدۇ؟', url='/news/2024/07/26739874.shtml', html_content='<a href=\"/news/2024/07/26739874.shtml\">\\n<img alt=\"\\u200bئەيدىز ۋىرۇسى بىلەن يېڭى يۇقۇملانغاندا قانداق ئالامەتلەر بولىدۇ؟\" src=\"https://cdnf.nur.cn/uploadfile/2024/0703/070308305989700004418093.jpg\"/>\\n<h4>\\u200bئەيدىز ۋىرۇسى بىلەن يېڭى يۇقۇملانغاندا قانداق ئالامەتلەر بولىدۇ؟</h4>\\n</a>'), RelatedItem(title='بۇ ئۈچ پىرىنسىپتا چىڭ تۇرسىڭىز ئەيدىزدىن يىراق بولىسىز', url='/news/2024/07/26732133.shtml', html_content='<a href=\"/news/2024/07/26732133.shtml\">\\n<img alt=\"بۇ ئۈچ پىرىنسىپتا چىڭ تۇرسىڭىز ئەيدىزدىن يىراق بولىسىز\" src=\"https://cdnf.nur.cn/uploadfile/2024/0701/070108143325300004418093.jpg\"/>\\n<h4>بۇ ئۈچ پىرىنسىپتا چىڭ تۇرسىڭىز ئەيدىزدىن يىراق بولىسىز</h4>\\n</a>'), RelatedItem(title='ئەيدىزگە مۇناسىۋەتلىك بۇ بىلىملەر ئارقىلىق ئۆزىڭىزنى قوغداڭ', url='/news/2024/07/26731624.shtml', html_content='<a href=\"/news/2024/07/26731624.shtml\">\\n<img alt=\"ئەيدىزگە مۇناسىۋەتلىك بۇ بىلىملەر ئارقىلىق ئۆزىڭىزنى قوغداڭ\" src=\"https://cdnf.nur.cn/uploadfile/2024/0701/070100204670300004418093.jpg\"/>\\n<h4>ئەيدىزگە مۇناسىۋەتلىك بۇ بىلىملەر ئارقىلىق ئۆزىڭىزنى قوغداڭ</h4>\\n</a>'), RelatedItem(title='19 ياشلىق ئالىي مەكتەپ ئوقۇغۇچىسى ئەيدىز كېسىلىگە گىرىپتار بولدى', url='/news/2024/07/26728229.shtml', html_content='<a href=\"/news/2024/07/26728229.shtml\">\\n<img alt=\"19 ياشلىق ئالىي مەكتەپ ئوقۇغۇچىسى ئەيدىز كېسىلىگە گىرىپتار بولدى\" src=\"https://cdnf.nur.cn/uploadfile/2024/0613/061320162046800026626974.jpg\"/>\\n<h4>19 ياشلىق ئالىي مەكتەپ ئوقۇغۇچىسى ئەيدىز كېسىلىگە گىرىپتار بولدى</h4>\\n</a>'), RelatedItem(title='سىز ئەيدىزنى چۈشىنەمسىز؟', url='/news/2024/06/26714764.shtml', html_content='<a href=\"/news/2024/06/26714764.shtml\">\\n<img alt=\"سىز ئەيدىزنى چۈشىنەمسىز؟\" src=\"https://cdnf.nur.cn/uploadfile/2024/0626/062616172768700004418093.jpg\"/>\\n<h4>سىز ئەيدىزنى چۈشىنەمسىز؟</h4>\\n</a>'), RelatedItem(title='چەمبەرچاس باغلانغانمۇ؟ ئەيدىز كېسىلى ۋە جىنسىي مۇناسىۋەت', url='/news/2024/06/26691284.shtml', html_content='<a href=\"/news/2024/06/26691284.shtml\">\\n<img alt=\"چەمبەرچاس باغلانغانمۇ؟ ئەيدىز كېسىلى ۋە جىنسىي مۇناسىۋەت\" src=\"https://cdnf.nur.cn/uploadfile/2024/0620/202406200dfe3472f018812160eafd195e8c0b3a00004418093.jpg\"/>\\n<h4>چەمبەرچاس باغلانغانمۇ؟ ئەيدىز كېسىلى ۋە جىنسىي مۇناسىۋەت</h4>\\n</a>'), RelatedItem(title='جىنسىي ھەۋەس يوق، شۇڭا ياشانغانلار ئەيدىز بىلەن يۇقۇملانمامدۇ؟', url='/news/2024/06/26691227.shtml', html_content='<a href=\"/news/2024/06/26691227.shtml\">\\n<img src=\"https://cdnf.nur.cn/uploadfile/2024/0620/202406207faee97c469bc215602e2a2f8229717900004418093.jpg\"/>\\n<h4>جىنسىي ھەۋەس يوق، شۇڭا ياشانغانلار ئەيدىز بىلەن يۇقۇملانمامدۇ؟</h4>\\n<div class=\"li-bottom\">\\n<!--<span class=\"resource\"><i>مەنبە</i>شىنخۇا تورى</span>-->\\n<span class=\"time\" style=\"margin-right:0px;\">يوللانغان ۋاقتى : 1 ئاي ئىلگىرى</span>\\n<!--<span class=\"click\">25&nbsp;<img src=\"/Static/public/img/icon/click.png\" alt=\"\"/></span>-->\\n</div>\\n</a>'), RelatedItem(title='ئىلگىرىلەش! ئەيدىزنىڭ يېڭى ئالدىنى ئېلىش ۋاكسىنىسى تەجرىبە قىلىنىشقا باشلىدى', url='/news/2024/06/26690212.shtml', html_content='<a href=\"/news/2024/06/26690212.shtml\">\\n<img src=\"https://cdnf.nur.cn/uploadfile/2024/0620/062011013827300004418093.jpg\"/>\\n<h4>ئىلگىرىلەش! ئەيدىزنىڭ يېڭى ئالدىنى ئېلىش ۋاكسىنىسى تەجرىبە قىلىنىشقا باشلىدى</h4>\\n<div class=\"li-bottom\">\\n<!--<span class=\"resource\"><i>مەنبە</i>شىنخۇا تورى</span>-->\\n<span class=\"time\" style=\"margin-right:0px;\">يوللانغان ۋاقتى : 1 ئاي ئىلگىرى</span>\\n<!--<span class=\"click\">25&nbsp;<img src=\"/Static/public/img/icon/click.png\" alt=\"\"/></span>-->\\n</div>\\n</a>'), RelatedItem(title='ئەيدىزگە ئائىت ئون سوئال: ئەيدىزنى تولۇق چۈشىنىشىڭىزگە ياردەم بېرىدۇ', url='/news/2024/06/26685358.shtml', html_content='<a href=\"/news/2024/06/26685358.shtml\">\\n<img src=\"https://cdnf.nur.cn/uploadfile/2024/0615/061513143273800004418093.jpg\"/>\\n<h4>ئەيدىزگە ئائىت ئون سوئال: ئەيدىزنى تولۇق چۈشىنىشىڭىزگە ياردەم بېرىدۇ</h4>\\n<div class=\"li-bottom\">\\n<!--<span class=\"resource\"><i>مەنبە</i>شىنخۇا تورى</span>-->\\n<span class=\"time\" style=\"margin-right:0px;\">يوللانغان ۋاقتى : 1 ئاي ئىلگىرى</span>\\n<!--<span class=\"click\">25&nbsp;<img src=\"/Static/public/img/icon/click.png\" alt=\"\"/></span>-->\\n</div>\\n</a>'), RelatedItem(title='ئەيدىز بىلەن يۇقۇملىنىپ قالسا قانداق قىلىش كېرەك؟', url='/news/2024/06/26685148.shtml', html_content='<a href=\"/news/2024/06/26685148.shtml\">\\n<img src=\"https://cdnf.nur.cn/uploadfile/2024/0618/20240618c06ce9c6dc86f981803d70183bd2645f00004418093.jpg\"/>\\n<h4>ئەيدىز بىلەن يۇقۇملىنىپ قالسا قانداق قىلىش كېرەك؟</h4>\\n<div class=\"li-bottom\">\\n<!--<span class=\"resource\"><i>مەنبە</i>شىنخۇا تورى</span>-->\\n<span class=\"time\" style=\"margin-right:0px;\">يوللانغان ۋاقتى : 1 ئاي ئىلگىرى</span>\\n<!--<span class=\"click\">25&nbsp;<img src=\"/Static/public/img/icon/click.png\" alt=\"\"/></span>-->\\n</div>\\n</a>'), RelatedItem(title='جىنسىي مۇناسىۋەتلا ئەمەس، بۇ تۆت ئىشنى قىلسىڭىزمۇ ئوخشاشلا ئەيدىز بىلەن يۇقۇملىنىسىز؟', url='/news/2024/06/26684747.shtml', html_content='<a href=\"/news/2024/06/26684747.shtml\">\\n<img src=\"https://cdnf.nur.cn/uploadfile/2024/0618/20240618c30bc2e2f7ef31a356a77cf90e918bd200004418093.jpg\"/>\\n<h4>جىنسىي مۇناسىۋەتلا ئەمەس، بۇ تۆت ئىشنى قىلسىڭىزمۇ ئوخشاشلا ئەيدىز بىلەن يۇقۇملىنىسىز؟</h4>\\n<div class=\"li-bottom\">\\n<!--<span class=\"resource\"><i>مەنبە</i>شىنخۇا تورى</span>-->\\n<span class=\"time\" style=\"margin-right:0px;\">يوللانغان ۋاقتى : 1 ئاي ئىلگىرى</span>\\n<!--<span class=\"click\">25&nbsp;<img src=\"/Static/public/img/icon/click.png\" alt=\"\"/></span>-->\\n</div>\\n</a>'), RelatedItem(title='ئۇۋۇلاتقىلى بارسا ئەيدىز كېسىلى يۇقۇپ قالامدۇ؟', url='/news/2024/06/26659262.shtml', html_content='<a href=\"/news/2024/06/26659262.shtml\">\\n<img src=\"https://cdnf.nur.cn/uploadfile/2022/0119/011913195131600020371022.jpg\"/>\\n<h4>ئۇۋۇلاتقىلى بارسا ئەيدىز كېسىلى يۇقۇپ قالامدۇ؟</h4>\\n<div class=\"li-bottom\">\\n<!--<span class=\"resource\"><i>مەنبە</i>شىنخۇا تورى</span>-->\\n<span class=\"time\" style=\"margin-right:0px;\">يوللانغان ۋاقتى : 1 ئاي ئىلگىرى</span>\\n<!--<span class=\"click\">25&nbsp;<img src=\"/Static/public/img/icon/click.png\" alt=\"\"/></span>-->\\n</div>\\n</a>'), RelatedItem(title='شۇنچە ياخشى قىز قانداق قىلىپ ئەيدىز كېسىلى بولۇپ قالدى؟ \\u200bسەۋەبى جىنسىي مۇناسىۋەت ئەمەس', url='/news/2024/06/26652977.shtml', html_content='<a href=\"/news/2024/06/26652977.shtml\">\\n<img src=\"https://cdnf.nur.cn/uploadfile/2024/0609/20240609fc85da527dd2e61e20ea620bdba16cd500004418093.jpg\"/>\\n<h4>شۇنچە ياخشى قىز قانداق قىلىپ ئەيدىز كېسىلى بولۇپ قالدى؟ \\u200bسەۋەبى جىنسىي مۇناسىۋەت ئەمەس</h4>\\n<div class=\"li-bottom\">\\n<!--<span class=\"resource\"><i>مەنبە</i>شىنخۇا تورى</span>-->\\n<span class=\"time\" style=\"margin-right:0px;\">يوللانغان ۋاقتى : 1 ئاي ئىلگىرى</span>\\n<!--<span class=\"click\">25&nbsp;<img src=\"/Static/public/img/icon/click.png\" alt=\"\"/></span>-->\\n</div>\\n</a>'), RelatedItem(title='ئەيدىزنىڭ پۇشايمان دورىسى بارمۇ؟', url='/news/2024/06/26641473.shtml', html_content='<a href=\"/news/2024/06/26641473.shtml\">\\n<img src=\"https://cdnf.nur.cn/uploadfile/2024/0606/20240606d319534a49183ab2adcf8242a55f0f3400004418093.jpg\"/>\\n<h4>ئەيدىزنىڭ پۇشايمان دورىسى بارمۇ؟</h4>\\n<div class=\"li-bottom\">\\n<!--<span class=\"resource\"><i>مەنبە</i>شىنخۇا تورى</span>-->\\n<span class=\"time\" style=\"margin-right:0px;\">يوللانغان ۋاقتى : 1 ئاي ئىلگىرى</span>\\n<!--<span class=\"click\">25&nbsp;<img src=\"/Static/public/img/icon/click.png\" alt=\"\"/></span>-->\\n</div>\\n</a>'), RelatedItem(title='ئەيدىز توغرىسىدا سىز قانچىلىك بىلىسىز؟', url='/news/2024/06/26641431.shtml', html_content='<a href=\"/news/2024/06/26641431.shtml\">\\n<img src=\"https://cdnf.nur.cn/uploadfile/2024/0606/20240606915929c08db7e5d8854e70776fc3cefb00004418093.jpg\"/>\\n<h4>ئەيدىز توغرىسىدا سىز قانچىلىك بىلىسىز؟</h4>\\n<div class=\"li-bottom\">\\n<!--<span class=\"resource\"><i>مەنبە</i>شىنخۇا تورى</span>-->\\n<span class=\"time\" style=\"margin-right:0px;\">يوللانغان ۋاقتى : 1 ئاي ئىلگىرى</span>\\n<!--<span class=\"click\">25&nbsp;<img src=\"/Static/public/img/icon/click.png\" alt=\"\"/></span>-->\\n</div>\\n</a>'), RelatedItem(title='قوش زەربە! ئەيدىز يۇقۇمدارلىرىنىڭ خامۇشلۇق مەسىلىسىگە دىققەت قىلىش كېرەك', url='/news/2024/06/26641379.shtml', html_content='<a href=\"/news/2024/06/26641379.shtml\">\\n<img src=\"https://cdnf.nur.cn/uploadfile/2024/0606/20240606613da58d584b1533627d74fec5a762b500004418093.jpg\"/>\\n<h4>قوش زەربە! ئەيدىز يۇقۇمدارلىرىنىڭ خامۇشلۇق مەسىلىسىگە دىققەت قىلىش كېرەك</h4>\\n<div class=\"li-bottom\">\\n<!--<span class=\"resource\"><i>مەنبە</i>شىنخۇا تورى</span>-->\\n<span class=\"time\" style=\"margin-right:0px;\">يوللانغان ۋاقتى : 1 ئاي ئىلگىرى</span>\\n<!--<span class=\"click\">25&nbsp;<img src=\"/Static/public/img/icon/click.png\" alt=\"\"/></span>-->\\n</div>\\n</a>'), RelatedItem(title='ۋىرۇسقا قارشى داۋالاشنى توختىتىشنىڭ ئەيدىز يۇقۇمدارلىرىغا بولغان زەربىسى', url='/news/2024/06/26641350.shtml', html_content='<a href=\"/news/2024/06/26641350.shtml\">\\n<img src=\"https://cdnf.nur.cn/uploadfile/2024/0606/20240606cb64331262193547dc8e9afc4386ed9200004418093.jpg\"/>\\n<h4>ۋىرۇسقا قارشى داۋالاشنى توختىتىشنىڭ ئەيدىز يۇقۇمدارلىرىغا بولغان زەربىسى</h4>\\n<div class=\"li-bottom\">\\n<!--<span class=\"resource\"><i>مەنبە</i>شىنخۇا تورى</span>-->\\n<span class=\"time\" style=\"margin-right:0px;\">يوللانغان ۋاقتى : 1 ئاي ئىلگىرى</span>\\n<!--<span class=\"click\">25&nbsp;<img src=\"/Static/public/img/icon/click.png\" alt=\"\"/></span>-->\\n</div>\\n</a>'), RelatedItem(title='ھەقسىز مەسلىھەت، ھەقسىز دورا بېرىش! ئەيدىز ھەققىدىكى سىزگە پايدىلىق بۇ ئۇچۇرلار بىلەمسىز؟', url='/news/2024/06/26641268.shtml', html_content='<a href=\"/news/2024/06/26641268.shtml\">\\n<img src=\"https://cdnf.nur.cn/uploadfile/2024/0606/060620123188700004418093.jpg\"/>\\n<h4>ھەقسىز مەسلىھەت، ھەقسىز دورا بېرىش! ئەيدىز ھەققىدىكى سىزگە پايدىلىق بۇ ئۇچۇرلار بىلەمسىز؟</h4>\\n<div class=\"li-bottom\">\\n<!--<span class=\"resource\"><i>مەنبە</i>شىنخۇا تورى</span>-->\\n<span class=\"time\" style=\"margin-right:0px;\">يوللانغان ۋاقتى : 1 ئاي ئىلگىرى</span>\\n<!--<span class=\"click\">25&nbsp;<img src=\"/Static/public/img/icon/click.png\" alt=\"\"/></span>-->\\n</div>\\n</a>')]\n"
     ]
    }
   ],
   "source": [
    "print(news_objects[0].related)"
   ]
  }
 ],
 "metadata": {
  "kernelspec": {
   "display_name": "nur_cn_crawler",
   "language": "python",
   "name": "python3"
  },
  "language_info": {
   "codemirror_mode": {
    "name": "ipython",
    "version": 3
   },
   "file_extension": ".py",
   "mimetype": "text/x-python",
   "name": "python",
   "nbconvert_exporter": "python",
   "pygments_lexer": "ipython3",
   "version": "3.12.9"
  }
 },
 "nbformat": 4,
 "nbformat_minor": 2
}

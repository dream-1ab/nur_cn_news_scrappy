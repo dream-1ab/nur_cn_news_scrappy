{
 "cells": [
  {
   "cell_type": "code",
   "execution_count": null,
   "metadata": {},
   "outputs": [],
   "source": [
    "import plyvel\n",
    "from typing import List, Optional\n",
    "from pydantic import BaseModel\n",
    "import json\n",
    "from bs4 import BeautifulSoup\n",
    "from tqdm import tqdm\n",
    "import pydantic\n",
    "\n",
    "\n",
    "class NewsItem(pydantic.BaseModel):\n",
    "    # \"id\": \"26829137\",\n",
    "    # \"title\": \"ﺋﯘﻛﺮﺍﺋﯩﻨﺎﻟﯩﻘﻼﺭ ﺯﯦﻤﯩﻦ ﺑﻪﺩﯨﻠﯩﮕﻪ ﺗﯩﻨﭽﻠﯩﻘﻘﺎ ﺋﯧﺮﯨﺸﯩﺸﻨﻰ ﺧﺎﻻﻳﺪﯨﻐﺎﻥ ﺑﻮﻟﯘﭖ ﻗﺎﻟﻤﺎﻗﺘﺎ\",\n",
    "    # \"thumb\": \"https://cdnf.nur.cn/uploadfile/2024/0724/072419254719500000010094.jpgthumb_210_150.jpg\",\n",
    "    # \"date_txt\": \"21 ﺳﺎﺋﻪﺕ ﺋﯩﻠﮕﯩﺮﻯ\",\n",
    "    # \"bahanum\": \"0\",\n",
    "    # \"copyfrom\": \"تېڭشۈن تورى\",\n",
    "    # \"type\": \"news\",\n",
    "    # \"url\": \"/news/2024/07/26829137.shtml\"\n",
    "\n",
    "    id: str\n",
    "    title: str\n",
    "    thumb: list | None = None\n",
    "    date_txt: str | None = None\n",
    "    bahanum: str | None = None\n",
    "    copyfrom: str | None = None\n",
    "    type: str | None = None\n",
    "    url: str\n",
    "    crawled: bool\n",
    "\n",
    "class NewsContentRelate(pydantic.BaseModel):\n",
    "    title: str\n",
    "    url: str\n",
    "    html_content: str\n",
    "\n",
    "class NewsContent(pydantic.BaseModel):\n",
    "    title: str\n",
    "    url: str\n",
    "    full_page_content:  str\n",
    "    comes_from: str | None\n",
    "    published_time: str\n",
    "    comment_count: int\n",
    "    tags: list[str]\n",
    "    related: list[NewsContentRelate]\n",
    "\n",
    "\n",
    "def html_to_paragraphs(html: str):\n",
    "    soup = BeautifulSoup(html, 'html.parser')\n",
    "    paragraphs = [p.get_text(strip=True) for p in soup.find_all('p') if p.get_text(strip=True)]\n",
    "    return paragraphs\n",
    "\n",
    "def save_paragraphs(paragraphs: list[str], count: int):\n",
    "    with open(f'../../extracted/{str(count).zfill(4)}.json', 'w+', encoding='utf-8') as f:\n",
    "        json.dump(paragraphs, f, ensure_ascii=False)\n"
   ]
  },
  {
   "cell_type": "markdown",
   "metadata": {},
   "source": [
    "# Read the news list"
   ]
  },
  {
   "cell_type": "code",
   "execution_count": 12,
   "metadata": {},
   "outputs": [
    {
     "name": "stdout",
     "output_type": "stream",
     "text": [
      "313160\n",
      "[('/news/2017/01/351865.shtml', '{\"id\":\"351865\",\"title\":\"ﺋﻪﻳﺪﯨﺰ ﻛﯧﺴﯩﻠﯩﻨﯩﯔ ﻛﯩﭽﯩﻚ ﺑﺎﻟﯩﻼﺭﺩﺍ ﻛﯚﺭﯛﻟﯩﺪﯨﻐﺎﻥ ﺩﻩﺳﻠﻪﭘﻜﻰ ﺋﺎﻻﻣﻪﺗﻠﯩﺮﻯ\",\"thumb\":[\"https://cdnf.nur.cn/uploadfile/2017/0102/20170102120556716.jpgthumb_210_150.jpg\"],\"date_txt\":\"7 ﻳﯩﻞ ﺋﯩﻠﮕﯩﺮﻯ\",\"bahanum\":\"0\",\"copyfrom\":\"تور دۇنياسى\",\"type\":\"news\",\"url\":\"/news/2017/01/351865.shtml\",\"crawled\":true}'), ('/news/2017/01/351875.shtml', '{\"id\":\"351875\",\"title\":\"ﺋﻪﻳﺪﯨﺰ ﻛﯧﺴﯩﻠﯩﻨﻰ ﺩﺍﯞﺍﻻﺷﺘﯩﻜﻰ ﻳﻪﺗﺘﻪ ﭼﻮﯓ ﻳﺎﻟﻐﺎﻥ ﮔﻪﭖ\",\"thumb\":[\"https://cdnf.nur.cn/uploadfile/2017/0102/20170102135601160.jpgthumb_210_150.jpg\"],\"date_txt\":\"7 ﻳﯩﻞ ﺋﯩﻠﮕﯩﺮﻯ\",\"bahanum\":\"0\",\"copyfrom\":\"تور دۇنياسى\",\"type\":\"news\",\"url\":\"/news/2017/01/351875.shtml\",\"crawled\":true}'), ('/news/2017/01/351965.shtml', '{\"id\":\"351965\",\"title\":\"ﻛﻪﭘﺘﻪﺭ ﮔﯚﺷﯩﻨﯩﯔ ﺋﻮﺯﯗﻗﻠﯘﻕ ﻗﯩﻤﻤﯩﺘﯩﻨﻰ ﺑﯩﻠﯩﯟﯦﻠﯩﯔ\",\"thumb\":[\"https://cdnf.nur.cn/uploadfile/2017/0102/20170102222739805.jpgthumb_210_150.jpg\"],\"date_txt\":\"7 ﻳﯩﻞ ﺋﯩﻠﮕﯩﺮﻯ\",\"bahanum\":\"0\",\"copyfrom\":\"نۇر تورى\",\"type\":\"news\",\"url\":\"/news/2017/01/351965.shtml\",\"crawled\":true}'), ('/news/2017/01/352147.shtml', '{\"id\":\"352147\",\"title\":\"مايمۇن شاپتۇلىنىڭ چارچاشقا قارشى تۇرۇش ئۈنۈمى بار\",\"thumb\":null,\"date_txt\":null,\"bahanum\":null,\"copyfrom\":null,\"type\":null,\"url\":\"/news/2017/01/352147.shtml\",\"crawled\":true}'), ('/news/2017/01/352200.shtml', '{\"id\":\"352200\",\"title\":\"ﺋﺎﺩﻩﻡ ﻧﯧﻤﻪ ﺋﯜﭼﯜﻥ ﺋﯚﺯﯨﻨﯩﯔ ﺧﻮﺭﻩﻙ ﺋﺎﯞﺍﺯﯨﺪﯨﻦ ﺋﻮﻳﻐﯩﻨﯩﭗ ﻛﻪﺗﻤﻪﻳﺪﯗ؟\",\"thumb\":[\"https://fcdn.nur.cn/uploadfile/2017/0103/20170103224433340.jpgthumb_210_150.jpg\"],\"date_txt\":\"8 ﻳﯩﻞ ﺋﯩﻠﮕﯩﺮﻯ\",\"bahanum\":\"0\",\"copyfrom\":\"نۇر تورى\",\"type\":\"news\",\"url\":\"/news/2017/01/352200.shtml\",\"crawled\":true}'), ('/news/2017/01/352201.shtml', '{\"id\":\"352201\",\"title\":\"ﺗﯘﺯ-ﺩﯨﺌﺎﺑﯩﺘﻨﯩﯔ ﺋﯩﭽﻜﻰ ﺟﻪﮪﻪﺗﺘﯩﻦ ﻣﺎﺳﻼﺷﺘﯘﺭﻏﯘﭼﯩﺴﻰ\",\"thumb\":[\"https://fcdn.nur.cn/uploadfile/2017/0103/20170103223447663.jpgthumb_210_150.jpg\"],\"date_txt\":\"8 ﻳﯩﻞ ﺋﯩﻠﮕﯩﺮﻯ\",\"bahanum\":\"0\",\"copyfrom\":\"نۇر تورى\",\"type\":\"news\",\"url\":\"/news/2017/01/352201.shtml\",\"crawled\":true}'), ('/news/2017/01/352223.shtml', '{\"id\":\"352223\",\"title\":\"ﻳﺎﺳﺎﻧﭽﯘﻕ ﻳﺎﺷﺎﻧﻐﺎﻧﻼﺭ ﻛﯚﭖ ﻛﯧﺴﻪﻝ ﺑﻮﻟﻤﺎﻳﺪﯗ\",\"thumb\":[\"https://cdnf.nur.cn/uploadfile/2017/0103/20170103232743219.jpgthumb_210_150.jpg\"],\"date_txt\":\"7 ﻳﯩﻞ ﺋﯩﻠﮕﯩﺮﻯ\",\"bahanum\":\"0\",\"copyfrom\":\"تىيانشان تورى\",\"type\":\"news\",\"url\":\"/news/2017/01/352223.shtml\",\"crawled\":true}'), ('/news/2017/01/352323.shtml', '{\"id\":\"352323\",\"title\":\"«بوغدا»لىقلار يېڭى يىل ھارپىسىدا شانلىق 20 يىلىنى كۈتىۋالدى\",\"thumb\":null,\"date_txt\":null,\"bahanum\":null,\"copyfrom\":null,\"type\":null,\"url\":\"/news/2017/01/352323.shtml\",\"crawled\":true}'), ('/news/2017/01/352392.shtml', '{\"id\":\"352392\",\"title\":\"ﺋﺎﻧﯩﺪﯨﻦ ﻗﯩﺰﯨﻐﺎ ﺋﯧﺮﺳﯩﻴﻪﺕ ﻗﺎﻟﯩﺪﯨﻐﺎﻥ 9 ﺧﯩﻞ ﻛﯧﺴﻪﻟﻠﯩﻚ\",\"thumb\":[\"https://cdnf.nur.cn/uploadfile/2017/0104/20170104164203512.jpgthumb_210_150.jpg\"],\"date_txt\":\"7 ﻳﯩﻞ ﺋﯩﻠﮕﯩﺮﻯ\",\"bahanum\":\"0\",\"copyfrom\":\"ۋاڭيى تورى\",\"type\":\"news\",\"url\":\"/news/2017/01/352392.shtml\",\"crawled\":true}'), ('/news/2017/01/352412.shtml', '{\"id\":\"352412\",\"title\":\"ﺋﻪﻳﺪﯨﺰ ﯞﯨﺮﯗﺳﻰ ﺋﯧﻠﯩﭗ ﻳﯜﺭﮔﯜﭼﯩﻠﻪﺭﻧﻰ ﻗﺎﻧﺪﺍﻕ ﻗﯘﺗﯘﻟﺪﯗﺭﯨﻤﯩﺰ؟\",\"thumb\":[\"https://cdnf.nur.cn/uploadfile/2017/0104/20170104165254366.jpgthumb_210_150.jpg\"],\"date_txt\":\"7 ﻳﯩﻞ ﺋﯩﻠﮕﯩﺮﻯ\",\"bahanum\":\"0\",\"copyfrom\":\"تور دۇنياسى\",\"type\":\"news\",\"url\":\"/news/2017/01/352412.shtml\",\"crawled\":true}'), ('/news/2017/01/352513.shtml', '{\"id\":\"352513\",\"title\":\"ئادەم ئۇخلاۋاتقاندا نېمە ئۈچۈن نەپىسى بوغۇلۇپ ئويغىنىپ كېتىدۇ؟\",\"thumb\":null,\"date_txt\":null,\"bahanum\":null,\"copyfrom\":null,\"type\":null,\"url\":\"/news/2017/01/352513.shtml\",\"crawled\":true}'), ('/news/2017/01/352515.shtml', '{\"id\":\"352515\",\"title\":\"پۇت-قول مۇزلاشنى ئالقاننى سىيرىش ئارقىلىق ساقايتقىلى بولىدۇ\",\"thumb\":null,\"date_txt\":null,\"bahanum\":null,\"copyfrom\":null,\"type\":null,\"url\":\"/news/2017/01/352515.shtml\",\"crawled\":true}'), ('/news/2017/01/352551.shtml', '{\"id\":\"352551\",\"title\":\"تەم خۇرۇچلىرىنىڭ شىپالىق رولى (2)\",\"thumb\":null,\"date_txt\":null,\"bahanum\":null,\"copyfrom\":null,\"type\":null,\"url\":\"/news/2017/01/352551.shtml\",\"crawled\":true}'), ('/news/2017/01/352623.shtml', '{\"id\":\"352623\",\"title\":\"65.3% ﻳﺎﺵ ﺋﯚﺯﯨﻨﻰ ﺋﻪﻳﺪﯨﺰ ﻛﯧﺴﯩﻠﯩﻨﻰ ﻳﺎﺧﺸﻰ ﭼﯜﺷﯩﻨﯩﻤﻪﻥ، ﺩﻩﭖ ﻗﺎﺭﺍﻳﺪﯨﻜﻪﻥ\",\"thumb\":[\"https://cdnf.nur.cn/uploadfile/2017/0105/20170105124624764.jpgthumb_210_150.jpg\"],\"date_txt\":\"7 ﻳﯩﻞ ﺋﯩﻠﮕﯩﺮﻯ\",\"bahanum\":\"0\",\"copyfrom\":\"تور دۇنياسى\",\"type\":\"news\",\"url\":\"/news/2017/01/352623.shtml\",\"crawled\":true}'), ('/news/2017/01/352785.shtml', '{\"id\":\"352785\",\"title\":\"ﻗﺎﺭﺍ ﮔﯜﺭﯛﭼﻨﯩﯔ ﺷﯩﭙﺎﻟﯩﻖ ﺭﻭﻟﻰ\",\"thumb\":[\"https://cdnf.nur.cn/uploadfile/2017/0105/20170105215705762.jpgthumb_210_150.jpg\"],\"date_txt\":\"7 ﻳﯩﻞ ﺋﯩﻠﮕﯩﺮﻯ\",\"bahanum\":\"0\",\"copyfrom\":\"تىيانشان تورى\",\"type\":\"news\",\"url\":\"/news/2017/01/352785.shtml\",\"crawled\":true}'), ('/news/2017/01/352786.shtml', '{\"id\":\"352786\",\"title\":\"ﭼﯜﺷﺘﻪ ﺋﯘﺧﻼﻳﺪﯨﻐﺎﻥ ﺑﺎﻟﯩﻼﺭﻧﯩﯔ ﺋﻪﺳﺘﻪ ﺗﯘﺗﯘﺵ ﻗﺎﺑﯩﻠﯩﻴﯩﺘﻰ ﻳﯘﻗﯩﺮﻯ ﺑﻮﻟﯩﺪﯨﻜﻪﻥ\",\"thumb\":[\"https://cdnf.nur.cn/uploadfile/2017/0105/20170105215915482.jpgthumb_210_150.jpg\"],\"date_txt\":\"7 ﻳﯩﻞ ﺋﯩﻠﮕﯩﺮﻯ\",\"bahanum\":\"0\",\"copyfrom\":\"تىيانشان تورى\",\"type\":\"news\",\"url\":\"/news/2017/01/352786.shtml\",\"crawled\":true}'), ('/news/2017/01/352904.shtml', '{\"id\":\"352904\",\"title\":\"بېشىنى يوتقانغا پۈركەپ ئۇخلاشنىڭ سالامەتلىككە قانداق زىيىنى بار؟\",\"thumb\":null,\"date_txt\":null,\"bahanum\":null,\"copyfrom\":null,\"type\":null,\"url\":\"/news/2017/01/352904.shtml\",\"crawled\":true}'), ('/news/2017/01/352932.shtml', '{\"id\":\"352932\",\"title\":\"ﻳﯘﻗﯩﺮﻯ ﺋﻪﻗﯩﻞ ﺑﯚﻟﯜﻧﻤﯩﺴﻰ ﺗﯘﻏﻤﺎ ﺋﯩﺮﺳﯩﻴﻪﺗﺘﯩﻦ ﺑﻮﻻﻣﺪﯗ ﻳﺎﻛﻰ ﻛﯧﻴﯩﻨﻜﻰ ﮪﺎﻣﯩﻠﻪ ﺗﻪﺭﺑﯩﻴﻪﺳﯩﺪﯨﻨﻤﯘ؟\",\"thumb\":[\"https://cdnf.nur.cn/uploadfile/2017/0106/20170106161003602.jpgthumb_210_150.jpg\"],\"date_txt\":\"7 ﻳﯩﻞ ﺋﯩﻠﮕﯩﺮﻯ\",\"bahanum\":\"1\",\"copyfrom\":\"ۋاڭيى تورى\",\"type\":\"news\",\"url\":\"/news/2017/01/352932.shtml\",\"crawled\":true}'), ('/news/2017/01/352938.shtml', '{\"id\":\"352938\",\"title\":\"ﮪﺎﻣﯩﻠﯩﺪﺍﺭ ﺑﻮﻟﯘﺷﺘﯩﻦ ﺋﯩﻠﮕﯩﺮﻯ ﺑﯘ ﺗﯚﺕ ﺧﯩﻞ ﺋﺎﻳﺎﻟﻼﺭ ﻛﯧﺴﻪﻟﻠﯩﻜﯩﺪﯨﻦ ﺳﺎﻗﯩﻴﯩﺸﯩﯖﯩﺰ ﻛﯧﺮﻩﻙ\",\"thumb\":[\"https://cdnf.nur.cn/uploadfile/2017/0106/20170106163038306.jpgthumb_210_150.jpg\"],\"date_txt\":\"7 ﻳﯩﻞ ﺋﯩﻠﮕﯩﺮﻯ\",\"bahanum\":\"0\",\"copyfrom\":\"سوخۇ تورى\",\"type\":\"news\",\"url\":\"/news/2017/01/352938.shtml\",\"crawled\":true}'), ('/news/2017/01/352974.shtml', '{\"id\":\"352974\",\"title\":\"سىز «كىچىك» چىرايمۇ ياكى «قېرى» چىرايمۇ؟\",\"thumb\":null,\"date_txt\":null,\"bahanum\":null,\"copyfrom\":null,\"type\":null,\"url\":\"/news/2017/01/352974.shtml\",\"crawled\":true}'), ('/news/2017/01/352999.shtml', '{\"id\":\"352999\",\"title\":\"ﺋﻪﻳﺪﯨﺰﮔﻪ ﻗﺎﺭﺷﻰ ﺗﯘﺭﯗﺷﺘﯩﻜﻰ ﺋﺎﻟﺘﻪ ﺧﯩﻞ ﻳﯧﻤﻪﻛﻠﯩﻚ\",\"thumb\":[\"https://cdnf.nur.cn/uploadfile/2017/0106/20170106200719851.jpgthumb_210_150.jpg\"],\"date_txt\":\"7 ﻳﯩﻞ ﺋﯩﻠﮕﯩﺮﻯ\",\"bahanum\":\"0\",\"copyfrom\":\"تور دۇنياسى\",\"type\":\"news\",\"url\":\"/news/2017/01/352999.shtml\",\"crawled\":true}'), ('/news/2017/01/353067.shtml', '{\"id\":\"353067\",\"title\":\"ﺗﯩﻨﭽﻼﻧﺪﯗﺭﯗﺵ ﺩﻭﺭﯨﺴﻰ ﻣﺎﺱ ﻛﻪﻟﻤﻪﻳﺪﯨﻐﺎﻧﻼﺭ\",\"thumb\":[\"https://cdnf.nur.cn/uploadfile/2017/0107/20170107002446381.jpgthumb_210_150.jpg\"],\"date_txt\":\"7 ﻳﯩﻞ ﺋﯩﻠﮕﯩﺮﻯ\",\"bahanum\":\"0\",\"copyfrom\":\"تىيانشان تورى\",\"type\":\"news\",\"url\":\"/news/2017/01/353067.shtml\",\"crawled\":true}'), ('/news/2017/01/353068.shtml', '{\"id\":\"353068\",\"title\":\"ﺑﺎﻟﯩﻼﺭﻧﯩﯔ ﺋﻮﺯﯗﻗﻠﯘﻗﯩﺪﺍ...\",\"thumb\":[\"https://cdnf.nur.cn/uploadfile/2017/0107/20170107002728541.jpgthumb_210_150.jpg\"],\"date_txt\":\"7 ﻳﯩﻞ ﺋﯩﻠﮕﯩﺮﻯ\",\"bahanum\":\"0\",\"copyfrom\":\"تىيانشان تورى\",\"type\":\"news\",\"url\":\"/news/2017/01/353068.shtml\",\"crawled\":true}'), ('/news/2017/01/353276.shtml', '{\"id\":\"353276\",\"title\":\"تېز يوللانمىنى يەشكەندە قول يۇيۇشنى ئۇنۇتماڭ\",\"thumb\":null,\"date_txt\":null,\"bahanum\":null,\"copyfrom\":null,\"type\":null,\"url\":\"/news/2017/01/353276.shtml\",\"crawled\":true}'), ('/news/2017/01/353280.shtml', '{\"id\":\"353280\",\"title\":\"ﺋﻪﺭﻟﻪﺭﮔﻪ ﺋﻪﯓ ﭘﺎﻳﺪﯨﻠﯩﻖ 6 ﺧﯩﻞ ﻳﯧﻤﻪﻛﻠﯩﻚ\",\"thumb\":[\"https://cdnf.nur.cn/uploadfile/2017/0107/20170107223208848.jpgthumb_210_150.jpg\"],\"date_txt\":\"7 ﻳﯩﻞ ﺋﯩﻠﮕﯩﺮﻯ\",\"bahanum\":\"0\",\"copyfrom\":\"نۇر تورى\",\"type\":\"news\",\"url\":\"/news/2017/01/353280.shtml\",\"crawled\":true}'), ('/news/2017/01/353282.shtml', '{\"id\":\"353282\",\"title\":\"كىتاب ئوقۇش ئۆمۈرنى ئۇزارتىدۇ\",\"thumb\":null,\"date_txt\":null,\"bahanum\":null,\"copyfrom\":null,\"type\":null,\"url\":\"/news/2017/01/353282.shtml\",\"crawled\":true}'), ('/news/2017/01/353284.shtml', '{\"id\":\"353284\",\"title\":\"ﺋﺎﺩﻩﻡ ﻧﯧﻤﻪ ﺋﯜﭼﯜﻥ ﺋﯚﺯﯨﻨﯩﯔ ﻳﯜﺭﻩﻙ ﺳﻮﻗﯘﺷﯩﻨﻰ ﺋﺎﯕﻠﯩﻴﺎﻟﻤﺎﻳﺪﯗ؟\",\"thumb\":[\"https://fcdn.nur.cn/uploadfile/2017/0107/20170107223904454.jpgthumb_210_150.jpg\"],\"date_txt\":\"8 ﻳﯩﻞ ﺋﯩﻠﮕﯩﺮﻯ\",\"bahanum\":\"0\",\"copyfrom\":\"نۇر تورى\",\"type\":\"news\",\"url\":\"/news/2017/01/353284.shtml\",\"crawled\":true}'), ('/news/2017/01/353686.shtml', '{\"id\":\"353686\",\"title\":\"ﺑﻪﻙ ﻗﯩﺴﻘﺎ ﺋﻪﻳﺪﯨﺰ ﺋﯧﻼﻧﻰ (ﻛﯚﺭﯛﭖ ﻗﻮﻳﯘﯓ)\",\"thumb\":[\"https://cdnf.nur.cn/uploadfile/2017/0109/20170109164434532.jpgthumb_210_150.jpg\"],\"date_txt\":\"7 ﻳﯩﻞ ﺋﯩﻠﮕﯩﺮﻯ\",\"bahanum\":\"0\",\"copyfrom\":\"تور دۇنياسى\",\"type\":\"news\",\"url\":\"/news/2017/01/353686.shtml\",\"crawled\":true}'), ('/news/2017/01/353748.shtml', '{\"id\":\"353748\",\"title\":\"ھەيز، ھامىلىدارلىق مەزگىلى ۋە ھەيز توختىغاندىن كېيىنكى جىنسىي تۇرمۇش\",\"thumb\":null,\"date_txt\":null,\"bahanum\":null,\"copyfrom\":null,\"type\":null,\"url\":\"/news/2017/01/353748.shtml\",\"crawled\":true}'), ('/news/2017/01/353873.shtml', '{\"id\":\"353873\",\"title\":\"ﻧﯧﻤﻪ ﺋﯜﭼﯜﻥ ﺑﺎﻟﯩﻼﺭ ﺷﯧﻜﻪﺭ ﻳﯧﻤﯩﺴﯩﻤﯘ ﭼﯩﺸﻰ ﭼﯩﺮﯨﻴﺪﯗ؟\",\"thumb\":[\"https://cdnf.nur.cn/uploadfile/2017/0110/20170110000145296.jpgthumb_210_150.jpg\"],\"date_txt\":\"7 ﻳﯩﻞ ﺋﯩﻠﮕﯩﺮﻯ\",\"bahanum\":\"0\",\"copyfrom\":\"تىيانشان تورى\",\"type\":\"news\",\"url\":\"/news/2017/01/353873.shtml\",\"crawled\":true}'), ('/news/2017/01/353874.shtml', '{\"id\":\"353874\",\"title\":\"كۈمۈش قاچا-قۇچىلار ۋە سالامەتلىك\",\"thumb\":null,\"date_txt\":null,\"bahanum\":null,\"copyfrom\":null,\"type\":null,\"url\":\"/news/2017/01/353874.shtml\",\"crawled\":true}'), ('/news/2017/01/354140.shtml', '{\"id\":\"354140\",\"title\":\"ﮔﯜﻣﺒﻪﻣﻪﺩﻩﻙ ﺗﯧﺮﻩ ﺭﺍﻛﯩﻨﯩﯔ ﺋﺎﻟﺪﯨﻨﻰ ﺋﺎﻟﯩﺪﯗ\",\"thumb\":[\"https://cdnf.nur.cn/uploadfile/2017/0110/20170110221759430.jpgthumb_210_150.jpg\"],\"date_txt\":\"7 ﻳﯩﻞ ﺋﯩﻠﮕﯩﺮﻯ\",\"bahanum\":\"0\",\"copyfrom\":\"تىيانشان تورى\",\"type\":\"news\",\"url\":\"/news/2017/01/354140.shtml\",\"crawled\":true}'), ('/news/2017/01/354311.shtml', '{\"id\":\"354311\",\"title\":\"ساغلاملىق سەپىرى 16-سان\",\"thumb\":null,\"date_txt\":null,\"bahanum\":null,\"copyfrom\":null,\"type\":null,\"url\":\"/news/2017/01/354311.shtml\",\"crawled\":true}'), ('/news/2017/01/354422.shtml', '{\"id\":\"354422\",\"title\":\"تەتقىقاتچىلار ئۇزۇن ئۆمۈر كۆرگۈچىلەردە 10 چوڭ ئوخشاشلىق بارلىقىنى بايقىدى\",\"thumb\":null,\"date_txt\":null,\"bahanum\":null,\"copyfrom\":null,\"type\":null,\"url\":\"/news/2017/01/354422.shtml\",\"crawled\":true}'), ('/news/2017/01/354425.shtml', '{\"id\":\"354425\",\"title\":\"ﺧﺎﻧﯩﻢ-ﻗﯩﺰﻻﺭ ﺑﻪﻙ ﺋﻮﺭﯗﻕ ﺑﻮﻟﯘﭖ ﻛﻪﺗﺴﻪ\",\"thumb\":[\"https://cdnf.nur.cn/uploadfile/2017/0111/20170111234709866.jpgthumb_210_150.jpg\"],\"date_txt\":\"7 ﻳﯩﻞ ﺋﯩﻠﮕﯩﺮﻯ\",\"bahanum\":\"0\",\"copyfrom\":\"تىيانشان تورى\",\"type\":\"news\",\"url\":\"/news/2017/01/354425.shtml\",\"crawled\":true}'), ('/news/2017/01/354692.shtml', '{\"id\":\"354692\",\"title\":\"ﻗﺎﻥ ﻳﯧﻐﯩﻨﻰ ﺗﯚﯞﻩﻧﻠﯩﺘﯩﺪﯨﻐﺎﻥ ﻛﯚﻛﺘﺎﺗﻼﺭ\",\"thumb\":[\"https://cdnf.nur.cn/uploadfile/2017/0112/20170112222808849.jpgthumb_210_150.jpg\"],\"date_txt\":\"7 ﻳﯩﻞ ﺋﯩﻠﮕﯩﺮﻯ\",\"bahanum\":\"0\",\"copyfrom\":\"تىيانشان تورى\",\"type\":\"news\",\"url\":\"/news/2017/01/354692.shtml\",\"crawled\":true}'), ('/news/2017/01/354711.shtml', '{\"id\":\"354711\",\"title\":\"ﺋﯚﺳﯜﻣﻠﯜﻛﺘﯩﻜﻰ ﺋﻮﺯﯗﻗﻠﯘﻕ ﻣﺎﺩﺩﯨﻼﺭﻧﻰ ﺳﻪﻝ ﭼﺎﻏﻼﺷﻘﺎ ﺑﻮﻟﻤﺎﻳﺪﯗ\",\"thumb\":[\"https://cdnf.nur.cn/uploadfile/2017/0112/20170112225812398.jpgthumb_210_150.jpg\"],\"date_txt\":\"7 ﻳﯩﻞ ﺋﯩﻠﮕﯩﺮﻯ\",\"bahanum\":\"0\",\"copyfrom\":\"نۇر تورى\",\"type\":\"news\",\"url\":\"/news/2017/01/354711.shtml\",\"crawled\":true}'), ('/news/2017/01/354713.shtml', '{\"id\":\"354713\",\"title\":\"ﺷﯧﻜﻪﺭ ﯞﻩ ﻳﺎﻍ ﻣﯩﻘﺪﺍﺭﻯ ﻳﯘﻗﯩﺮﻯ ﻳﯧﻤﻪﻛﻠﯩﻜﻠﻪﺭ ﺋﻮﯕﺎﻳﻼ ﺋﯜﭼﻪﻱ ﺭﺍﻛﯩﻨﻰ ﭘﻪﻳﺪﺍ ﻗﯩﻠﯩﺪﯗ\",\"thumb\":[\"https://cdnf.nur.cn/uploadfile/2017/0112/20170112225921428.jpgthumb_210_150.jpg\"],\"date_txt\":\"7 ﻳﯩﻞ ﺋﯩﻠﮕﯩﺮﻯ\",\"bahanum\":\"0\",\"copyfrom\":\"نۇر تورى\",\"type\":\"news\",\"url\":\"/news/2017/01/354713.shtml\",\"crawled\":true}'), ('/news/2017/01/354714.shtml', '{\"id\":\"354714\",\"title\":\"ﺳﻪﻳﻠﻰ-ﺳﺎﻳﺎﮪﻪﺗﻜﻪ ﭼﯩﻘﻘﺎﻧﺪﺍ ﻣﯘﻧﺪﺍﻕ ﺋﺎﻟﺘﻪ ﺋﯩﺸﻘﺎ ﺩﯨﻘﻘﻪﺕ ﻗﯩﻠﯩﯔ\",\"thumb\":[\"https://cdnf.nur.cn/uploadfile/2017/0112/20170112230036195.jpgthumb_210_150.jpg\"],\"date_txt\":\"7 ﻳﯩﻞ ﺋﯩﻠﮕﯩﺮﻯ\",\"bahanum\":\"0\",\"copyfrom\":\"نۇر تورى\",\"type\":\"news\",\"url\":\"/news/2017/01/354714.shtml\",\"crawled\":true}'), ('/news/2017/01/354715.shtml', '{\"id\":\"354715\",\"title\":\"ﺋﺎﭺ ﻗﻮﺭﺳﺎﻕ ﺋﯧﺴﺘﯩﻤﺎﻝ ﻗﯩﻠﯩﺸﻘﺎ ﺑﻮﻟﻤﺎﻳﺪﯨﻐﺎﻥ 12 ﺧﯩﻞ ﻳﯧﻤﻪﻛﻠﯩﻚ\",\"thumb\":[\"https://cdnf.nur.cn/uploadfile/2017/0112/20170112230146551.jpgthumb_210_150.jpg\"],\"date_txt\":\"7 ﻳﯩﻞ ﺋﯩﻠﮕﯩﺮﻯ\",\"bahanum\":\"0\",\"copyfrom\":\"نۇر تورى\",\"type\":\"news\",\"url\":\"/news/2017/01/354715.shtml\",\"crawled\":true}'), ('/news/2017/01/354934.shtml', '{\"id\":\"354934\",\"title\":\"ﭘﯘﺭﭼﺎﻕ ﺳﯜﺗﯩﻨﻰ ﻗﺎﻧﺪﺍﻕ ﺗﻪﻳﻴﺎﺭﻟﯩﻐﺎﻧﺪﺍ ﺋﻮﺯﯗﻗﻠﯘﻕ ﻗﯩﻤﻤﯩﺘﻰ ﻳﯘﻗﯩﺮﻯ ﺑﻮﻟﯩﺪﯗ\",\"thumb\":[\"https://cdnf.nur.cn/uploadfile/2017/0113/20170113210440494.jpgthumb_210_150.jpg\"],\"date_txt\":\"7 ﻳﯩﻞ ﺋﯩﻠﮕﯩﺮﻯ\",\"bahanum\":\"0\",\"copyfrom\":\"سوخۇ تورى\",\"type\":\"news\",\"url\":\"/news/2017/01/354934.shtml\",\"crawled\":true}'), ('/news/2017/01/354978.shtml', '{\"id\":\"354978\",\"title\":\"يەر ياڭىقى ئالتە خىل ئادەمگە ماس كەلمەيدۇ\",\"thumb\":null,\"date_txt\":null,\"bahanum\":null,\"copyfrom\":null,\"type\":null,\"url\":\"/news/2017/01/354978.shtml\",\"crawled\":true}'), ('/news/2017/01/354981.shtml', '{\"id\":\"354981\",\"title\":\"ﺩﯨﻘﻘﻪﺕ! ﺋﻪﻳﺪﯨﺰ ﺋﻪﺗﺮﺍﭘﯩﯖﯩﺰﺩﯨﻼ\",\"thumb\":[\"https://cdnf.nur.cn/uploadfile/2017/0113/20170113231226344.jpgthumb_210_150.jpg\"],\"date_txt\":\"7 ﻳﯩﻞ ﺋﯩﻠﮕﯩﺮﻯ\",\"bahanum\":\"0\",\"copyfrom\":\"تېڭشۈن تورى\",\"type\":\"news\",\"url\":\"/news/2017/01/354981.shtml\",\"crawled\":true}'), ('/news/2017/01/354987.shtml', '{\"id\":\"354987\",\"title\":\"ﻗﺎﺭﺍ ﺭﻩﯕﻠﯩﻚ ﻣﯧﯟﻩ–ﭼﯧﯟﻩ ﻳﯧﮕﻪﻧﺪﻩ ﮪﯚﺳﯩﻦ ﮔﯜﺯﻩﻟﻠﻪﺷﺘﯜﺭﮔﯩﻠﻰ ﺑﻮﻟﯩﺪﯗ\",\"thumb\":[\"https://cdnf.nur.cn/uploadfile/2017/0113/20170113232341396.jpgthumb_210_150.jpg\"],\"date_txt\":\"7 ﻳﯩﻞ ﺋﯩﻠﮕﯩﺮﻯ\",\"bahanum\":\"0\",\"copyfrom\":\"تىيانشان تورى\",\"type\":\"news\",\"url\":\"/news/2017/01/354987.shtml\",\"crawled\":true}'), ('/news/2017/01/354991.shtml', '{\"id\":\"354991\",\"title\":\"ﺗﻮﻱ ﻗﯩﻠﯩﺶ ﺋﻪﺭﻟﻪﺭﻧﯩﯔ ﺳﺎﻻﻣﻪﺗﻠﯩﻜﯩﮕﻪ ﭘﺎﻳﺪﯨﻠﯩﻖ\",\"thumb\":[\"https://cdnf.nur.cn/uploadfile/2017/0113/20170113232657215.jpgthumb_210_150.jpg\"],\"date_txt\":\"7 ﻳﯩﻞ ﺋﯩﻠﮕﯩﺮﻯ\",\"bahanum\":\"0\",\"copyfrom\":\"تىيانشان تورى\",\"type\":\"news\",\"url\":\"/news/2017/01/354991.shtml\",\"crawled\":true}'), ('/news/2017/01/354994.shtml', '{\"id\":\"354994\",\"title\":\"دىيابېت ئاغرىقلىرى مېۋە–چېۋە يېگەندە دىققەت قىلىدىغان ئىشلار\",\"thumb\":null,\"date_txt\":null,\"bahanum\":null,\"copyfrom\":null,\"type\":null,\"url\":\"/news/2017/01/354994.shtml\",\"crawled\":true}'), ('/news/2017/01/355273.shtml', '{\"id\":\"355273\",\"title\":\"پەلەمپەينى بىر-بىرلەپ بېسىپ چىققاندا ياغ تېخىمۇ خورايدۇ\",\"thumb\":null,\"date_txt\":null,\"bahanum\":null,\"copyfrom\":null,\"type\":null,\"url\":\"/news/2017/01/355273.shtml\",\"crawled\":true}'), ('/news/2017/01/355507.shtml', '{\"id\":\"355507\",\"title\":\"ﺗﻪﺗﻘﯩﻘﺎﺗﺘﺎ ﻗﺎﻥ ﺑﯧﺴﯩﻤﻰ ﻳﯘﻗﯩﺮﯨﺮﺍﻕ ﺋﺎﻳﺎﻟﻼﺭﻧﯩﯔ ﺋﺎﺳﺎﻧﻼ ﺋﻮﻏﯘﻝ ﺗﯘﻏﯩﺪﯨﻐﺎﻧﻠﯩﻘﻰ ﻛﯚﺭﺳﯩﺘﯩﻠﺪﻯ\",\"thumb\":[\"https://cdnf.nur.cn/uploadfile/2017/0116/20170116105518353.jpgthumb_210_150.jpg\"],\"date_txt\":\"7 ﻳﯩﻞ ﺋﯩﻠﮕﯩﺮﻯ\",\"bahanum\":\"0\",\"copyfrom\":\"شىنخۇا تورى\",\"type\":\"news\",\"url\":\"/news/2017/01/355507.shtml\",\"crawled\":true}'), ('/news/2017/01/355576.shtml', '{\"id\":\"355576\",\"title\":\"ساغلاملىق سەپىرى 17-سان\",\"thumb\":null,\"date_txt\":null,\"bahanum\":null,\"copyfrom\":null,\"type\":null,\"url\":\"/news/2017/01/355576.shtml\",\"crawled\":true}'), ('/news/2017/01/355934.shtml', '{\"id\":\"355934\",\"title\":\"ئۆرۈك مېغىزىدىن زەھەرلىنىش ۋە ئۇنىڭ ئالدىنى ئېلىش\",\"thumb\":null,\"date_txt\":null,\"bahanum\":null,\"copyfrom\":null,\"type\":null,\"url\":\"/news/2017/01/355934.shtml\",\"crawled\":true}'), ('/news/2017/01/355935.shtml', '{\"id\":\"355935\",\"title\":\"مىكروب ئۆلتۈرىدىغان دورىلىق كۆكتات غولپىياز\",\"thumb\":null,\"date_txt\":null,\"bahanum\":null,\"copyfrom\":null,\"type\":null,\"url\":\"/news/2017/01/355935.shtml\",\"crawled\":true}'), ('/news/2017/01/355937.shtml', '{\"id\":\"355937\",\"title\":\"ﺑﻮﯞﺍﻗﻼﺭ ﯞﻩ ﻛﺎﻻ ﺳﯜﺗﻰ\",\"thumb\":[\"https://cdnf.nur.cn/uploadfile/2017/0117/20170117221859179.jpgthumb_210_150.jpg\"],\"date_txt\":\"7 ﻳﯩﻞ ﺋﯩﻠﮕﯩﺮﻯ\",\"bahanum\":\"0\",\"copyfrom\":\"تىيانشان تورى\",\"type\":\"news\",\"url\":\"/news/2017/01/355937.shtml\",\"crawled\":true}'), ('/news/2017/01/355941.shtml', '{\"id\":\"355941\",\"title\":\"ئادەم ئۇخلىغاندا ئورگانىزملار ئۇخلىمايدۇ\",\"thumb\":null,\"date_txt\":null,\"bahanum\":null,\"copyfrom\":null,\"type\":null,\"url\":\"/news/2017/01/355941.shtml\",\"crawled\":true}'), ('/news/2017/01/355942.shtml', '{\"id\":\"355942\",\"title\":\"ناچار كەيپىيات قان شېكىرىنى ئۆرلىتىۋېتىدۇ\",\"thumb\":null,\"date_txt\":null,\"bahanum\":null,\"copyfrom\":null,\"type\":null,\"url\":\"/news/2017/01/355942.shtml\",\"crawled\":true}'), ('/news/2017/01/355961.shtml', '{\"id\":\"355961\",\"title\":\"خۇشال-خۇرام ياشاشنىڭ يوللىرى\",\"thumb\":null,\"date_txt\":null,\"bahanum\":null,\"copyfrom\":null,\"type\":null,\"url\":\"/news/2017/01/355961.shtml\",\"crawled\":true}'), ('/news/2017/01/355964.shtml', '{\"id\":\"355964\",\"title\":\"ئالتە خىل ھەرىكەتتە سەكتە بولۇپ قېلىشتىن ساقلانغىلى بولىدۇ\",\"thumb\":null,\"date_txt\":null,\"bahanum\":null,\"copyfrom\":null,\"type\":null,\"url\":\"/news/2017/01/355964.shtml\",\"crawled\":true}'), ('/news/2017/01/355998.shtml', '{\"id\":\"355998\",\"title\":\"ئەر-ئاياللارنىڭ جىنسىي ھەۋەس ۋە ئىپادىسىدىكى پەرقلەر\",\"thumb\":null,\"date_txt\":null,\"bahanum\":null,\"copyfrom\":null,\"type\":null,\"url\":\"/news/2017/01/355998.shtml\",\"crawled\":true}'), ('/news/2017/01/356171.shtml', '{\"id\":\"356171\",\"title\":\"دوكتور ئابدۇنەبىدىن ياش-ئوتتۇرا ياشلارغا جىددىي سىگنال\",\"thumb\":null,\"date_txt\":null,\"bahanum\":null,\"copyfrom\":null,\"type\":null,\"url\":\"/news/2017/01/356171.shtml\",\"crawled\":true}'), ('/news/2017/01/356416.shtml', '{\"id\":\"356416\",\"title\":\"كىشىلەر ئاسانلا خاتا چۈشىنىپ قالىدىغان بىر قىسىم ئالامەتلەر\",\"thumb\":null,\"date_txt\":null,\"bahanum\":null,\"copyfrom\":null,\"type\":null,\"url\":\"/news/2017/01/356416.shtml\",\"crawled\":true}'), ('/news/2017/01/356484.shtml', '{\"id\":\"356484\",\"title\":\"مېڭىدە قان نۆكچىسى پەيدا بولۇشتىن ئاۋۋالقى ئالتە خىل يوشۇرۇن سىگنالدىن پەخەس بولۇڭ\",\"thumb\":null,\"date_txt\":null,\"bahanum\":null,\"copyfrom\":null,\"type\":null,\"url\":\"/news/2017/01/356484.shtml\",\"crawled\":true}'), ('/news/2017/01/356487.shtml', '{\"id\":\"356487\",\"title\":\"ﺑﻮﯞﺍﻗﻼﺭﻧﯩﯔ ﺑﺎﻟﺪﯗﺭ ﻣﯧﯖﯩﺸﻨﻰ ﺋﯚﮔﯩﻨﯩﺸﻰ ﻛﯚﺭﯛﺵ ﺋﯩﻘﺘﯩﺪﺍﺭﯨﻐﺎ ﺯﯨﻴﺎﻥ ﻳﻪﺗﻜﯜﺯﯨﺪﯗ\",\"thumb\":[\"https://cdnf.nur.cn/uploadfile/2017/0119/20170119234806518.jpgthumb_210_150.jpg\"],\"date_txt\":\"7 ﻳﯩﻞ ﺋﯩﻠﮕﯩﺮﻯ\",\"bahanum\":\"0\",\"copyfrom\":\"تىيانشان تورى\",\"type\":\"news\",\"url\":\"/news/2017/01/356487.shtml\",\"crawled\":true}'), ('/news/2017/01/356489.shtml', '{\"id\":\"356489\",\"title\":\"ﺑﺎﻟﯩﯖﯩﺰﻏﺎ ﺋﯘﺧﻼﺷﺘﯩﻦ ﺑﯘﺭﯗﻥ ﮪﯧﻜﺎﻳﻪ ﺋﯧﻴﺘﯩﭗ ﺑﯧﺮﯨﯔ\",\"thumb\":[\"https://cdnf.nur.cn/uploadfile/2017/0119/20170119235124159.jpgthumb_210_150.jpg\"],\"date_txt\":\"7 ﻳﯩﻞ ﺋﯩﻠﮕﯩﺮﻯ\",\"bahanum\":\"0\",\"copyfrom\":\"تىيانشان تورى\",\"type\":\"news\",\"url\":\"/news/2017/01/356489.shtml\",\"crawled\":true}'), ('/news/2017/01/356627.shtml', '{\"id\":\"356627\",\"title\":\"ﻛﯜﻧﺪﻩ ﺑﯩﺮ ﺋﯩﺴﺘﺎﻛﺎﻥ ﭘﯘﺭﭼﺎﻕ ﺳﯜﺗﻰ ﺋﯩﭽﯩﺸﻨﯩﯔ ﺋﻪﻳﺪﯨﺰﻧﻰ ﻛﻮﻧﺘﺮﻭﻝ ﻗﯩﻠﯩﺸﺘﺎ ﺭﻭﻟﻰ ﭼﻮﯓ\",\"thumb\":[\"https://cdnf.nur.cn/uploadfile/2017/0120/20170120152641208.jpgthumb_210_150.jpg\"],\"date_txt\":\"7 ﻳﯩﻞ ﺋﯩﻠﮕﯩﺮﻯ\",\"bahanum\":\"0\",\"copyfrom\":\"تور دۇنياسى\",\"type\":\"news\",\"url\":\"/news/2017/01/356627.shtml\",\"crawled\":true}'), ('/news/2017/01/356899.shtml', '{\"id\":\"356899\",\"title\":\"ﺋﯩﻤﻤﯘﻧﯩﺘﯧﺘﻠﯩﻖ ﺩﺍﯞﺍﻻﺵ ﺋﺎﺭﻗﯩﻠﯩﻖ ﺋﻪﻳﺪﯨﺰ ﻛﯧﺴﯩﻠﯩﻨﻰ ﺳﺎﻗﺎﻳﺘﻘﯩﻠﻰ ﺑﻮﻟﯘﺷﻰ ﻣﯘﻣﻜﯩﻦ\",\"thumb\":[\"https://cdnf.nur.cn/uploadfile/2017/0121/20170121160027323.jpgthumb_210_150.jpg\"],\"date_txt\":\"7 ﻳﯩﻞ ﺋﯩﻠﮕﯩﺮﻯ\",\"bahanum\":\"0\",\"copyfrom\":\"ۋاڭيى تورى\",\"type\":\"news\",\"url\":\"/news/2017/01/356899.shtml\",\"crawled\":true}'), ('/news/2017/01/357002.shtml', '{\"id\":\"357002\",\"title\":\"ﺋﯚﺯ-ﺋﯚﺯﯨﻨﻰ ﻛﯜﺗﯜﺷﻜﻪ ﻣﺎﮪﯩﺮ ﺑﻮﻟﯘﺵ- ﻳﺎﺷﺎﻧﻐﺎﻧﻼﺭ ﺳﺎﻏﻼﻣﻠﯩﻘﻨﯩﯔ ﺋﺎﭼﻘﯘﭼﻰ\",\"thumb\":[\"https://cdnf.nur.cn/uploadfile/2017/0121/20170121213449445.jpgthumb_210_150.jpg\"],\"date_txt\":\"7 ﻳﯩﻞ ﺋﯩﻠﮕﯩﺮﻯ\",\"bahanum\":\"0\",\"copyfrom\":\"نۇر تورى\",\"type\":\"news\",\"url\":\"/news/2017/01/357002.shtml\",\"crawled\":true}'), ('/news/2017/01/357003.shtml', '{\"id\":\"357003\",\"title\":\"ﻳﺎﺷﺎﻧﻐﺎﻧﻼﺭ ﻧﯧﻤﻪ ﺋﯜﭼﯜﻥ ﺋﺎﺳﺎﻥ ﺋﺎﻟﺪﯨﻨﯩﺪﯗ؟\",\"thumb\":[\"https://cdnf.nur.cn/uploadfile/2017/0121/20170121213604136.jpgthumb_210_150.jpg\"],\"date_txt\":\"7 ﻳﯩﻞ ﺋﯩﻠﮕﯩﺮﻯ\",\"bahanum\":\"0\",\"copyfrom\":\"نۇر تورى\",\"type\":\"news\",\"url\":\"/news/2017/01/357003.shtml\",\"crawled\":true}'), ('/news/2017/01/357004.shtml', '{\"id\":\"357004\",\"title\":\"ﻳﺎﺷﺎﻧﻐﺎﻧﻼﺭ ﻳﯧﻤﻪﻙ-ﺋﯩﭽﻤﻪﻛﻨﯩﯔ ﺭﻩﯕﮕﯩﮕﻪ ﺋﻪﮪﻤﯩﻴﻪﺕ ﺑﯧﺮﯨﺸﻰ ﻛﯧﺮﻩﻙ\",\"thumb\":[\"https://cdnf.nur.cn/uploadfile/2017/0121/20170121213725204.jpgthumb_210_150.jpg\"],\"date_txt\":\"7 ﻳﯩﻞ ﺋﯩﻠﮕﯩﺮﻯ\",\"bahanum\":\"0\",\"copyfrom\":\"نۇر تورى\",\"type\":\"news\",\"url\":\"/news/2017/01/357004.shtml\",\"crawled\":true}'), ('/news/2017/01/357008.shtml', '{\"id\":\"357008\",\"title\":\"كەچلىك تاماق ۋە كېسەللىك\",\"thumb\":null,\"date_txt\":null,\"bahanum\":null,\"copyfrom\":null,\"type\":null,\"url\":\"/news/2017/01/357008.shtml\",\"crawled\":true}'), ('/news/2017/01/357009.shtml', '{\"id\":\"357009\",\"title\":\"ياشانغاندا جەمئىيەتتىن ئايرىلىپ قالماڭ\",\"thumb\":null,\"date_txt\":null,\"bahanum\":null,\"copyfrom\":null,\"type\":null,\"url\":\"/news/2017/01/357009.shtml\",\"crawled\":true}'), ('/news/2017/01/357010.shtml', '{\"id\":\"357010\",\"title\":\"چۈشتە ئۇخلىسا بولمايدىغان كىشىلەر\",\"thumb\":null,\"date_txt\":null,\"bahanum\":null,\"copyfrom\":null,\"type\":null,\"url\":\"/news/2017/01/357010.shtml\",\"crawled\":true}'), ('/news/2017/01/357329.shtml', '{\"id\":\"357329\",\"title\":\"ساغلاملىق سەپىرى 18-سان: داۋالىنىش سۇغۇرتىسى ۋە ئۇنىڭ تۈرلىرى\",\"thumb\":null,\"date_txt\":null,\"bahanum\":null,\"copyfrom\":null,\"type\":null,\"url\":\"/news/2017/01/357329.shtml\",\"crawled\":true}'), ('/news/2017/01/357358.shtml', '{\"id\":\"357358\",\"title\":\"ﻓﯩﻠﯩﭙﭙﯩﻨﺪﺍ ﺋﻪﻳﺪﯨﺰ ﺑﯩﻤﺎﺭﻟﯩﺮﯨﻨﯩﯔ ﺳﺎﻧﻰ ﮪﻪﺭ 4 ﺳﺎﺋﻪﺗﺘﻪ ﺋﯜﭼﺘﯩﻦ ﻛﯚﭘﯩﻴﯩﺪﯗ\",\"thumb\":[\"https://cdnf.nur.cn/uploadfile/2017/0123/20170123145903343.jpgthumb_210_150.jpg\"],\"date_txt\":\"7 ﻳﯩﻞ ﺋﯩﻠﮕﯩﺮﻯ\",\"bahanum\":\"0\",\"copyfrom\":\"تور دۇنياسى\",\"type\":\"news\",\"url\":\"/news/2017/01/357358.shtml\",\"crawled\":true}'), ('/news/2017/01/357502.shtml', '{\"id\":\"357502\",\"title\":\"ﺳﺎﻣﺴﺎﻗﻨﯩﯔ ﺷﯩﭙﺎﻟﯩﻖ ﺭﻭﻟﻰ\",\"thumb\":[\"https://cdnf.nur.cn/uploadfile/2017/0123/20170123231322421.jpgthumb_210_150.jpg\"],\"date_txt\":\"7 ﻳﯩﻞ ﺋﯩﻠﮕﯩﺮﻯ\",\"bahanum\":\"0\",\"copyfrom\":\"نۇر تورى\",\"type\":\"news\",\"url\":\"/news/2017/01/357502.shtml\",\"crawled\":true}'), ('/news/2017/01/357507.shtml', '{\"id\":\"357507\",\"title\":\"ﺩﻩﺯﻣﺎﻟﺪﺍ ﻛﯩﻴﯩﻢ ﺳﺎﻏﯩﺮﯨﭗ ﻗﺎﻟﺴﺎ\",\"thumb\":[\"https://fcdn.nur.cn/uploadfile/2017/0123/20170123232457422.jpgthumb_210_150.jpg\"],\"date_txt\":\"8 ﻳﯩﻞ ﺋﯩﻠﮕﯩﺮﻯ\",\"bahanum\":\"0\",\"copyfrom\":\"نۇر تورى\",\"type\":\"news\",\"url\":\"/news/2017/01/357507.shtml\",\"crawled\":true}'), ('/news/2017/01/357559.shtml', '{\"id\":\"357559\",\"title\":\"يېمەك-ئىچمەك ئادىتىنى ئۆزگەرتىش قان بېسىمىنى كونترول قىلىشقا پايدىلىق\",\"thumb\":null,\"date_txt\":null,\"bahanum\":null,\"copyfrom\":null,\"type\":null,\"url\":\"/news/2017/01/357559.shtml\",\"crawled\":true}'), ('/news/2017/01/357561.shtml', '{\"id\":\"357561\",\"title\":\"ﺋﻮﺯﯗﻗﻠﯘﻗﻨﻰ ﺧﻮﺭﯨﺘﯩﺪﯨﻐﺎﻥ ﺋﺎﺩﻩﺗﻠﻪﺭ\",\"thumb\":[\"https://cdnf.nur.cn/uploadfile/2017/0124/20170124012803545.jpgthumb_210_150.jpg\"],\"date_txt\":\"7 ﻳﯩﻞ ﺋﯩﻠﮕﯩﺮﻯ\",\"bahanum\":\"0\",\"copyfrom\":\"تىيانشان تورى\",\"type\":\"news\",\"url\":\"/news/2017/01/357561.shtml\",\"crawled\":true}'), ('/news/2017/01/357562.shtml', '{\"id\":\"357562\",\"title\":\"ﺑﺎﻟﯩﻼﺭﺩﯨﻜﻰ ﭼﯩﺶ ﺋﺎﻏﺮﯨﻘﯩﻨﯩﯔ ﺋﺎﻟﺪﯨﻨﻰ ﺋﯧﻠﯩﺶ ﯞﻩ ﺩﺍﯞﺍﻻﺵ\",\"thumb\":[\"https://cdnf.nur.cn/uploadfile/2017/0124/20170124013036318.jpgthumb_210_150.jpg\"],\"date_txt\":\"7 ﻳﯩﻞ ﺋﯩﻠﮕﯩﺮﻯ\",\"bahanum\":\"0\",\"copyfrom\":\"تىيانشان تورى\",\"type\":\"news\",\"url\":\"/news/2017/01/357562.shtml\",\"crawled\":true}'), ('/news/2017/01/357564.shtml', '{\"id\":\"357564\",\"title\":\"ئاق قان كېسىلىگە گىرىپتار بولغان %90 بالىنىڭ ئۆيى ئالىي دەرىجىلىك بېزەلگەن\",\"thumb\":null,\"date_txt\":null,\"bahanum\":null,\"copyfrom\":null,\"type\":null,\"url\":\"/news/2017/01/357564.shtml\",\"crawled\":true}'), ('/news/2017/01/357565.shtml', '{\"id\":\"357565\",\"title\":\"ﺑﺎﻟﯩﻼﺭﻧﯩﯔ ﺳﺎﻻﻣﻪﺗﻠﯩﻜﯩﮕﻪ ﺯﯨﻴﺎﻧﻠﯩﻖ ﺋﺎﺩﻩﺗﻠﻪﺭ\",\"thumb\":[\"https://cdnf.nur.cn/uploadfile/2017/0124/20170124013637207.jpgthumb_210_150.jpg\"],\"date_txt\":\"7 ﻳﯩﻞ ﺋﯩﻠﮕﯩﺮﻯ\",\"bahanum\":\"0\",\"copyfrom\":\"تىيانشان تورى\",\"type\":\"news\",\"url\":\"/news/2017/01/357565.shtml\",\"crawled\":true}'), ('/news/2017/01/357566.shtml', '{\"id\":\"357566\",\"title\":\"ﺋﻮﺯﯗﻗﻠﯘﻗﻨﯩﯔ ﺋﯧﺸﯩﭗ ﻛﯧﺘﯩﺸﻰ ﺑﺎﻟﯩﻼﺭﻧﯩﯔ ﺋﻪﻗﻠﯩﻲ ﻛﯜﭼﯩﮕﻪ ﺗﻪﺳﯩﺮ ﻳﻪﺗﻜﯜﺯﯨﺪﯗ\",\"thumb\":[\"https://cdnf.nur.cn/uploadfile/2017/0124/20170124013836858.jpgthumb_210_150.jpg\"],\"date_txt\":\"7 ﻳﯩﻞ ﺋﯩﻠﮕﯩﺮﻯ\",\"bahanum\":\"0\",\"copyfrom\":\"تىيانشان تورى\",\"type\":\"news\",\"url\":\"/news/2017/01/357566.shtml\",\"crawled\":true}'), ('/news/2017/01/357567.shtml', '{\"id\":\"357567\",\"title\":\"ﺋﺎﻳﺎﻟﻼﺭ ﻗﺎﻳﺴﻰ ﻣﻪﺯﮔﯩﻠﺪﻩ ﭼﺎﻱ ﺋﯩﭽﺴﻪ ﺑﻮﻟﻤﺎﻳﺪﯗ؟\",\"thumb\":[\"https://cdnf.nur.cn/uploadfile/2017/0124/20170124014305648.jpgthumb_210_150.jpg\"],\"date_txt\":\"7 ﻳﯩﻞ ﺋﯩﻠﮕﯩﺮﻯ\",\"bahanum\":\"0\",\"copyfrom\":\"تىيانشان تورى\",\"type\":\"news\",\"url\":\"/news/2017/01/357567.shtml\",\"crawled\":true}'), ('/news/2017/01/357568.shtml', '{\"id\":\"357568\",\"title\":\"ﺋﺎﻳﺎﻟﻼﺭﺩﯨﻜﻰ ﺑﻪﺯﻯ ﻛﯚﺯ ﻛﯧﺴﻪﻟﻠﯩﻜﻠﯩﺮﻯ ﮪﻪﻳﺰ ﺑﯩﻠﻪﻥ ﻣﯘﻧﺎﺳﯩﯟﻩﺗﻠﯩﻚ\",\"thumb\":[\"https://cdnf.nur.cn/uploadfile/2017/0124/20170124014834265.jpgthumb_210_150.jpg\"],\"date_txt\":\"7 ﻳﯩﻞ ﺋﯩﻠﮕﯩﺮﻯ\",\"bahanum\":\"0\",\"copyfrom\":\"تىيانشان تورى\",\"type\":\"news\",\"url\":\"/news/2017/01/357568.shtml\",\"crawled\":true}'), ('/news/2017/01/357570.shtml', '{\"id\":\"357570\",\"title\":\"ئۇزۇن يىل خىزمەت بېسىمى ئېغىر بولسا ئاسانلا بەش خىل راكقا گىرىپتار بولىدۇ\",\"thumb\":null,\"date_txt\":null,\"bahanum\":null,\"copyfrom\":null,\"type\":null,\"url\":\"/news/2017/01/357570.shtml\",\"crawled\":true}'), ('/news/2017/01/357809.shtml', '{\"id\":\"357809\",\"title\":\"ﺟﯩﻨﺴﯩﻲ ﻳﻮﻝ ﮪﺎﻟﻘﯩﺴﻰ ﺋﺎﺭﻗﯩﻠﯩﻘﻤﯘ ﺋﻪﻳﺪﯨﺰﻧﯩﯔ ﺋﺎﻟﺪﯨﻨﻰ ﺋﺎﻟﻐﯩﻠﻰ ﺑﻮﻟﯩﺪﯗ\",\"thumb\":[\"https://cdnf.nur.cn/uploadfile/2017/0124/20170124213707182.jpgthumb_210_150.jpg\"],\"date_txt\":\"7 ﻳﯩﻞ ﺋﯩﻠﮕﯩﺮﻯ\",\"bahanum\":\"0\",\"copyfrom\":\"تور دۇنياسى\",\"type\":\"news\",\"url\":\"/news/2017/01/357809.shtml\",\"crawled\":true}'), ('/news/2017/01/357843.shtml', '{\"id\":\"357843\",\"title\":\"ئەر- خوتۇن دائىم جاڭجاللاشسا، ئاسانلا يۈرەك قان تومۇر كېسەللىكىگە گىرىپتار بولۇپ قالىدۇ\",\"thumb\":null,\"date_txt\":null,\"bahanum\":null,\"copyfrom\":null,\"type\":null,\"url\":\"/news/2017/01/357843.shtml\",\"crawled\":true}'), ('/news/2017/01/357851.shtml', '{\"id\":\"357851\",\"title\":\"ﻗﺎﻧﺪﺍﻕ ﺋﺎﻳﺎﻟﻼﺭ ﺳﯜﺕ ﺑﯧﺰﻯ ﺭﺍﻛﯩﻐﺎ ﺋﺎﺳﺎﻥ ﮔﯩﺮﯨﭙﺘﺎﺭ ﺑﻮﻟﯩﺪﯗ؟\",\"thumb\":[\"https://cdnf.nur.cn/uploadfile/2017/0124/20170124231614589.jpgthumb_210_150.jpg\"],\"date_txt\":\"7 ﻳﯩﻞ ﺋﯩﻠﮕﯩﺮﻯ\",\"bahanum\":\"0\",\"copyfrom\":\"نۇر تورى\",\"type\":\"news\",\"url\":\"/news/2017/01/357851.shtml\",\"crawled\":true}'), ('/news/2017/01/357898.shtml', '{\"id\":\"357898\",\"title\":\"ﺋﻪﺭﻟﻪﺭﺩﯨﻜﻰ ﺋﻪﯓ ﺋﺎﺳﺎﻥ ﻛﯧﺴﻪﻝ ﻛﯚﺭﯛﻟﯩﺪﯨﻐﺎﻥ ﺋﻪﺯﺍﻻﺭ\",\"thumb\":[\"https://cdnf.nur.cn/uploadfile/2017/0124/20170124235850830.jpgthumb_210_150.jpg\"],\"date_txt\":\"7 ﻳﯩﻞ ﺋﯩﻠﮕﯩﺮﻯ\",\"bahanum\":\"0\",\"copyfrom\":\"تىيانشان تورى\",\"type\":\"news\",\"url\":\"/news/2017/01/357898.shtml\",\"crawled\":true}'), ('/news/2017/01/357921.shtml', '{\"id\":\"357921\",\"title\":\"ﻳﯧﯖﻰ ﺗﯘﻏﯘﻟﻐﺎﻥ ﺑﻮﯞﺍﻕ ﻛﯧﭽﯩﺴﻰ ﺋﯘﺧﻠﯩﻤﺎﻱ، ﻛﯜﻧﺪﯛﺯﻯ ﺋﯘﺧﻠﯩﺴﺎ\",\"thumb\":[\"https://cdnf.nur.cn/uploadfile/2017/0125/20170125103750584.jpgthumb_210_150.jpg\"],\"date_txt\":\"7 ﻳﯩﻞ ﺋﯩﻠﮕﯩﺮﻯ\",\"bahanum\":\"0\",\"copyfrom\":\"تىيانشان تورى\",\"type\":\"news\",\"url\":\"/news/2017/01/357921.shtml\",\"crawled\":true}'), ('/news/2017/01/357922.shtml', '{\"id\":\"357922\",\"title\":\"ﺋﯩﺸﺨﺎﻧﯩﺪﯨﻜﻰ ﺑﻪﺯﻯ ﻳﺎﻣﺎﻥ ﺋﺎﺩﻩﺗﻠﻪﺭﺩﯨﻦ ﺳﺎﻗﻠﯩﻨﯩﯔ\",\"thumb\":[\"https://cdnf.nur.cn/uploadfile/2017/0125/20170125104206775.jpgthumb_210_150.jpg\"],\"date_txt\":\"7 ﻳﯩﻞ ﺋﯩﻠﮕﯩﺮﻯ\",\"bahanum\":\"0\",\"copyfrom\":\"تىيانشان تورى\",\"type\":\"news\",\"url\":\"/news/2017/01/357922.shtml\",\"crawled\":true}'), ('/news/2017/01/357928.shtml', '{\"id\":\"357928\",\"title\":\"بەش ئەزانىڭ ئۇيقۇسىزلىق بىلەن بولغان مۇناسىۋىتى\",\"thumb\":null,\"date_txt\":null,\"bahanum\":null,\"copyfrom\":null,\"type\":null,\"url\":\"/news/2017/01/357928.shtml\",\"crawled\":true}'), ('/news/2017/01/358170.shtml', '{\"id\":\"358170\",\"title\":\"ﺑﺎﻟﯩﻼﺭﻧﻰ ﺋﻮﻳﻐﯩﺘﯩﺸﺘﺎ...\",\"thumb\":[\"https://cdnf.nur.cn/uploadfile/2017/0125/20170125195134161.jpgthumb_210_150.jpg\"],\"date_txt\":\"7 ﻳﯩﻞ ﺋﯩﻠﮕﯩﺮﻯ\",\"bahanum\":\"0\",\"copyfrom\":\"تىيانشان تورى\",\"type\":\"news\",\"url\":\"/news/2017/01/358170.shtml\",\"crawled\":true}'), ('/news/2017/01/358172.shtml', '{\"id\":\"358172\",\"title\":\"ﺋﯚﺗﯜﻙ ﻛﯩﻴﯩﺸﺘﯩﻦ ﭘﻪﻳﺪﺍ ﺑﻮﻟﯩﺪﯨﻐﺎﻥ ﺋﯜﭺ ﺧﯩﻞ ﻛﯧﺴﻪﻟﺪﯨﻦ ﺋﯧﮭﺘﯩﻴﺎﺕ ﻗﯩﻠﯩﯔ\",\"thumb\":[\"https://cdnf.nur.cn/uploadfile/2017/0125/20170125195650498.jpgthumb_210_150.jpg\"],\"date_txt\":\"7 ﻳﯩﻞ ﺋﯩﻠﮕﯩﺮﻯ\",\"bahanum\":\"0\",\"copyfrom\":\"تىيانشان تورى\",\"type\":\"news\",\"url\":\"/news/2017/01/358172.shtml\",\"crawled\":true}'), ('/news/2017/01/358227.shtml', '{\"id\":\"358227\",\"title\":\"ﺋﺎﺳﺎﻥ ﺳﺎﻗﯩﻴﯩﺪﯨﻐﺎﻥ 10 ﺧﯩﻞ ﺋﺎﻳﺎﻟﻼﺭ ﻛﯧﺴﻪﻟﻠﯩﻜﻰ\",\"thumb\":[\"https://cdnf.nur.cn/uploadfile/2017/0125/20170125231832162.jpgthumb_210_150.jpg\"],\"date_txt\":\"7 ﻳﯩﻞ ﺋﯩﻠﮕﯩﺮﻯ\",\"bahanum\":\"0\",\"copyfrom\":\"نۇر تورى\",\"type\":\"news\",\"url\":\"/news/2017/01/358227.shtml\",\"crawled\":true}'), ('/news/2017/01/358229.shtml', '{\"id\":\"358229\",\"title\":\"ئۇيقۇسىزلىقنىڭ ياشلار-ئۆسمۈرلەرگە بولغان زىيىنى ئىنتايىن ئېغىر\",\"thumb\":null,\"date_txt\":null,\"bahanum\":null,\"copyfrom\":null,\"type\":null,\"url\":\"/news/2017/01/358229.shtml\",\"crawled\":true}'), ('/news/2017/01/358231.shtml', '{\"id\":\"358231\",\"title\":\"ﻳﯧﯖﯩﺪﯨﻦ ﺑﯧﺰﯨﮕﻪﻥ ﺋﯚﻳﻠﻪﺭﺩﯨﻜﻰ ﻓﻮﺭﻣﺎﻟﯩﻨﻨﻰ ﻳﻮﻗﯩﺘﯩﺸﻨﯩﯔ ﺋﻪﭘﭽﯩﻞ ﺋﯘﺳﯘﻟﻠﯩﺮﻯ\",\"thumb\":[\"https://fcdn.nur.cn/uploadfile/2017/0125/20170125232247790.jpgthumb_210_150.jpg\"],\"date_txt\":\"8 ﻳﯩﻞ ﺋﯩﻠﮕﯩﺮﻯ\",\"bahanum\":\"0\",\"copyfrom\":\"نۇر تورى\",\"type\":\"news\",\"url\":\"/news/2017/01/358231.shtml\",\"crawled\":true}'), ('/news/2017/01/358415.shtml', '{\"id\":\"358415\",\"title\":\"ﺋﻪﺭ-ﺋﺎﻳﺎﻟﻼﺭﻧﯩﯔ ﺟﯩﻨﺴﯩﻲ ﮪﻪﯞﯨﺴﻰ ﯞﻩ ﺋﯩﭙﺎﺩﯨﻠﯩﺮﻯ\",\"thumb\":[\"https://cdnf.nur.cn/uploadfile/2017/0126/20170126170011318.jpgthumb_210_150.jpg\"],\"date_txt\":\"7 ﻳﯩﻞ ﺋﯩﻠﮕﯩﺮﻯ\",\"bahanum\":\"0\",\"copyfrom\":\"تور دۇنياسى\",\"type\":\"news\",\"url\":\"/news/2017/01/358415.shtml\",\"crawled\":true}'), ('/news/2017/01/358417.shtml', '{\"id\":\"358417\",\"title\":\"جىنسىي مۇناسىۋەت قىلىشقا بولمايدىغان مەزگىل\",\"thumb\":null,\"date_txt\":null,\"bahanum\":null,\"copyfrom\":null,\"type\":null,\"url\":\"/news/2017/01/358417.shtml\",\"crawled\":true}'), ('/news/2017/01/358425.shtml', '{\"id\":\"358425\",\"title\":\"جىنسىي تۇرمۇشتىكى ماسلىشىش\",\"thumb\":null,\"date_txt\":null,\"bahanum\":null,\"copyfrom\":null,\"type\":null,\"url\":\"/news/2017/01/358425.shtml\",\"crawled\":true}'), ('/news/2017/01/358427.shtml', '{\"id\":\"358427\",\"title\":\"ﺳﯜﻧﺌﯩﻲ ﺑﺎﻻ ﭼﯜﺷﯜﺭﮔﻪﻧﻠﻪﺭ ﻗﺎﻧﭽﯩﻠﯩﻚ ﯞﺍﻗﯩﺘﺘﯩﻦ ﻛﯩﻴﯩﻦ ﺑﺎﻟﯩﻠﯩﻖ ﺑﻮﻟﺴﺎ ﻣﯘﯞﺍﭘﯩﻖ\",\"thumb\":[\"https://cdnf.nur.cn/uploadfile/2017/0126/20170126173514668.jpgthumb_210_150.jpg\"],\"date_txt\":\"7 ﻳﯩﻞ ﺋﯩﻠﮕﯩﺮﻯ\",\"bahanum\":\"0\",\"copyfrom\":\"تور دۇنياسى\",\"type\":\"news\",\"url\":\"/news/2017/01/358427.shtml\",\"crawled\":true}'), ('/news/2017/01/358524.shtml', '{\"id\":\"358524\",\"title\":\"ﺗﻪﻧﺘﻪﺭﺑﯩﻴﻪ ﭘﺎﺋﺎﻟﯩﻴﯩﺘﻰ ﺑﺎﻟﯩﻼﺭﻧﯩﯔ ﺯﯦﮭﻨﯩﻲ ﻛﯜﭼﯩﻨﻰ ﺋﺎﺷﯘﺭﯨﺪﯗ\",\"thumb\":[\"https://cdnf.nur.cn/uploadfile/2017/0126/20170126224600787.jpgthumb_210_150.jpg\"],\"date_txt\":\"7 ﻳﯩﻞ ﺋﯩﻠﮕﯩﺮﻯ\",\"bahanum\":\"0\",\"copyfrom\":\"تىيانشان تورى\",\"type\":\"news\",\"url\":\"/news/2017/01/358524.shtml\",\"crawled\":true}')]\n"
     ]
    }
   ],
   "source": [
    "with plyvel.DB(\"../../data/news_list.lvdb\") as db:\n",
    "    news_lists = [(k.decode(), v.decode()) for k, v in db.iterator()]\n",
    "\n",
    "print(f\"{len(news_lists)}\")\n",
    "print(news_lists[0:100])"
   ]
  },
  {
   "cell_type": "markdown",
   "metadata": {},
   "source": [
    "## Read the database"
   ]
  },
  {
   "cell_type": "code",
   "execution_count": null,
   "metadata": {},
   "outputs": [
    {
     "name": "stderr",
     "output_type": "stream",
     "text": [
      "preparing...: 231093it [02:57, 1305.54it/s]\n"
     ]
    }
   ],
   "source": [
    "\n",
    "news: list[list[str]] = []\n",
    "news_objects: list[NewsContent] = []\n",
    "with plyvel.DB('../../data/news_content.lvdb') as db:\n",
    "    \n",
    "    for k, v in tqdm(db.iterator(), desc=\"preparing...\"):\n",
    "        news_item = NewsContent.model_validate_json(str(v, encoding='utf-8'))\n",
    "        news_objects.append(news_item)\n",
    "        html = news_item.full_page_content\n",
    "        paragraphs = html_to_paragraphs(html)\n",
    "        news.append(paragraphs)"
   ]
  },
  {
   "cell_type": "code",
   "execution_count": 3,
   "metadata": {},
   "outputs": [
    {
     "name": "stderr",
     "output_type": "stream",
     "text": [
      "cleaning links: 100%|██████████| 231093/231093 [02:28<00:00, 1552.77it/s]\n"
     ]
    }
   ],
   "source": [
    "\n",
    "import text_cleaner\n",
    "import re\n",
    "\n",
    "def clean_http_links(text: str) -> str:\n",
    "    return re.sub(r'https?://[^\\s]+', '', text)\n",
    "\n",
    "news = [[text_cleaner.clean_text(i) for i in n] for n in tqdm(news, desc=\"cleaning links\")]"
   ]
  },
  {
   "cell_type": "code",
   "execution_count": 4,
   "metadata": {},
   "outputs": [
    {
     "name": "stderr",
     "output_type": "stream",
     "text": [
      "100%|██████████| 231093/231093 [00:06<00:00, 33603.69it/s]"
     ]
    },
    {
     "name": "stdout",
     "output_type": "stream",
     "text": [
      "done.\n"
     ]
    },
    {
     "name": "stderr",
     "output_type": "stream",
     "text": [
      "\n"
     ]
    }
   ],
   "source": [
    "count = 0\n",
    "all_paragraphs: list[str] = []\n",
    "for p in tqdm(news):\n",
    "    all_paragraphs.extend(p)\n",
    "    count += 1\n",
    "    if count % 1000 == 0:\n",
    "        save_paragraphs(all_paragraphs, count)\n",
    "        all_paragraphs = []\n",
    "#save the last part of the paragraphs to json file.\n",
    "save_paragraphs(all_paragraphs, count)\n",
    "\n",
    "print(\"done.\")"
   ]
  },
  {
   "cell_type": "markdown",
   "metadata": {},
   "source": [
    "# Clean the text"
   ]
  },
  {
   "cell_type": "code",
   "execution_count": 5,
   "metadata": {},
   "outputs": [
    {
     "name": "stderr",
     "output_type": "stream",
     "text": [
      "100%|██████████| 231093/231093 [00:12<00:00, 17879.73it/s]"
     ]
    },
    {
     "name": "stdout",
     "output_type": "stream",
     "text": [
      "{'ش', '>', '%', '<', '€', 'گ', '¥', '.', 's', 'p', '|', '-', 'j', 'ى', 'u', 'چ', 'k', 'د', '_', 'ق', 'y', '}', '8', '\"', 'l', 'ۋ', 'غ', 'ج', 'v', 'c', '^', '#', '*', 'ە', 'ۆ', 'h', ']', 'ت', '(', '£', 'o', '‹', 'س', '«', 'f', 'خ', '›', ')', 'b', 'w', 'ر', '7', '6', '@', '?', 'r', 'ۇ', '»', 'ا', '0', 'ئ', 'e', 'ژ', '+', 'z', 'i', 'ې', 'ك', 'ز', 'ب', ':', '1', '=', 'ف', '3', 'n', 'ۈ', '5', 'پ', '[', 'ل', '{', '2', 'م', '9', 'q', '4', 'g', 'ي', ' ', 'و', '/', 'a', '،', 'ن', 't', 'ڭ', 'm', '؛', '؟', \"'\", '$', 'x', '!', 'd', 'ھ'}\n"
     ]
    },
    {
     "name": "stderr",
     "output_type": "stream",
     "text": [
      "\n"
     ]
    },
    {
     "data": {
      "text/plain": [
       "106"
      ]
     },
     "execution_count": 5,
     "metadata": {},
     "output_type": "execute_result"
    }
   ],
   "source": [
    "extracted_symbols = set(\"\")\n",
    "for p in tqdm(news[:]):\n",
    "    for s in p:\n",
    "        extracted_symbols.update(s)\n",
    "\n",
    "print(extracted_symbols)\n",
    "len(extracted_symbols)"
   ]
  },
  {
   "cell_type": "markdown",
   "metadata": {},
   "source": [
    "# Save all symbols to json file as tokens."
   ]
  },
  {
   "cell_type": "code",
   "execution_count": 6,
   "metadata": {},
   "outputs": [],
   "source": [
    "tokens = [s for s in [text_cleaner.symbols_list]]\n",
    "with open('tokens.json', 'w+', encoding='utf-8') as f:\n",
    "    json.dump(tokens, f, ensure_ascii=False)\n"
   ]
  },
  {
   "cell_type": "markdown",
   "metadata": {},
   "source": [
    "### Save all the news title into json file."
   ]
  },
  {
   "cell_type": "code",
   "execution_count": 7,
   "metadata": {},
   "outputs": [
    {
     "name": "stderr",
     "output_type": "stream",
     "text": [
      "100%|██████████| 231093/231093 [00:05<00:00, 43752.35it/s]\n"
     ]
    },
    {
     "name": "stdout",
     "output_type": "stream",
     "text": [
      "[OK] of save all the titles.\n"
     ]
    }
   ],
   "source": [
    "import csv\n",
    "from text_cleaner import collapse_spaces, clean_extended_uyghur_characters, clean_http_links, collapse_spaces, clean_rare_symbols\n",
    "with open(\"../../extracted/titles.tsv\", \"w\") as f:\n",
    "    writer = csv.DictWriter(f, delimiter=\"\\t\", fieldnames=[\"url\", \"title_ug\"])\n",
    "    writer.writeheader()\n",
    "    rows = [{\"url\": i.url, \"title_ug\": clean_extended_uyghur_characters(collapse_spaces(clean_rare_symbols(clean_http_links(i.title))))} for i in tqdm(news_objects)]\n",
    "    writer.writerows(rows)\n",
    "print(\"[OK] of save all the titles.\")"
   ]
  }
 ],
 "metadata": {
  "kernelspec": {
   "display_name": "nur_cn_crawler",
   "language": "python",
   "name": "python3"
  },
  "language_info": {
   "codemirror_mode": {
    "name": "ipython",
    "version": 3
   },
   "file_extension": ".py",
   "mimetype": "text/x-python",
   "name": "python",
   "nbconvert_exporter": "python",
   "pygments_lexer": "ipython3",
   "version": "3.12.9"
  }
 },
 "nbformat": 4,
 "nbformat_minor": 2
}
